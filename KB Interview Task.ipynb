{
 "cells": [
  {
   "cell_type": "markdown",
   "id": "46e7d1b7",
   "metadata": {},
   "source": [
    "# 1 Data Preprocessing"
   ]
  },
  {
   "cell_type": "code",
   "execution_count": 1,
   "id": "c0fa5e94",
   "metadata": {},
   "outputs": [
    {
     "data": {
      "text/html": [
       "<div>\n",
       "<style scoped>\n",
       "    .dataframe tbody tr th:only-of-type {\n",
       "        vertical-align: middle;\n",
       "    }\n",
       "\n",
       "    .dataframe tbody tr th {\n",
       "        vertical-align: top;\n",
       "    }\n",
       "\n",
       "    .dataframe thead th {\n",
       "        text-align: right;\n",
       "    }\n",
       "</style>\n",
       "<table border=\"1\" class=\"dataframe\">\n",
       "  <thead>\n",
       "    <tr style=\"text-align: right;\">\n",
       "      <th></th>\n",
       "      <th>CONTRACT_NO</th>\n",
       "      <th>CUSTOMER_NO</th>\n",
       "      <th>START_DATE</th>\n",
       "      <th>DATE_OF_LOAN_MATURITY</th>\n",
       "      <th>PRODUCT</th>\n",
       "      <th>tenure</th>\n",
       "      <th>INITIAL_AMOUNT</th>\n",
       "      <th>mobile_name</th>\n",
       "      <th>CUSTOMER_CITY</th>\n",
       "      <th>gender</th>\n",
       "      <th>Ministry</th>\n",
       "      <th>Position</th>\n",
       "      <th>Avg_salary</th>\n",
       "      <th>age</th>\n",
       "      <th>Region_Location</th>\n",
       "      <th>Loan_location_group</th>\n",
       "      <th>Bad Flag</th>\n",
       "    </tr>\n",
       "  </thead>\n",
       "  <tbody>\n",
       "    <tr>\n",
       "      <th>0</th>\n",
       "      <td>contract_25103</td>\n",
       "      <td>26102</td>\n",
       "      <td>2019-02-18</td>\n",
       "      <td>2024-10-01</td>\n",
       "      <td>BIRKART</td>\n",
       "      <td>60.0</td>\n",
       "      <td>6400.0</td>\n",
       "      <td>Iphone</td>\n",
       "      <td>Biləsuvar</td>\n",
       "      <td>M</td>\n",
       "      <td>Ministry of Internal Affair</td>\n",
       "      <td>Other</td>\n",
       "      <td>1073.54</td>\n",
       "      <td>56.992272</td>\n",
       "      <td>Aran</td>\n",
       "      <td>Aran</td>\n",
       "      <td>0</td>\n",
       "    </tr>\n",
       "    <tr>\n",
       "      <th>1</th>\n",
       "      <td>contract_178508</td>\n",
       "      <td>179507</td>\n",
       "      <td>2019-08-09</td>\n",
       "      <td>2022-09-08</td>\n",
       "      <td>GTK</td>\n",
       "      <td>36.0</td>\n",
       "      <td>2450.0</td>\n",
       "      <td>Unknown</td>\n",
       "      <td>Masallı</td>\n",
       "      <td>M</td>\n",
       "      <td>Ministry of Education</td>\n",
       "      <td>Teacher</td>\n",
       "      <td>399.84</td>\n",
       "      <td>34.938431</td>\n",
       "      <td>Lankaran</td>\n",
       "      <td>Lankaran</td>\n",
       "      <td>0</td>\n",
       "    </tr>\n",
       "    <tr>\n",
       "      <th>2</th>\n",
       "      <td>contract_44173</td>\n",
       "      <td>45172</td>\n",
       "      <td>2019-08-14</td>\n",
       "      <td>2024-10-07</td>\n",
       "      <td>BIRKART</td>\n",
       "      <td>60.0</td>\n",
       "      <td>2200.0</td>\n",
       "      <td>Xiaomi</td>\n",
       "      <td>Bakı</td>\n",
       "      <td>M</td>\n",
       "      <td>Ministry of Emergency</td>\n",
       "      <td>Other</td>\n",
       "      <td>1064.94</td>\n",
       "      <td>35.965146</td>\n",
       "      <td>Baku</td>\n",
       "      <td>Baku</td>\n",
       "      <td>0</td>\n",
       "    </tr>\n",
       "    <tr>\n",
       "      <th>3</th>\n",
       "      <td>contract_110572</td>\n",
       "      <td>111571</td>\n",
       "      <td>2019-06-25</td>\n",
       "      <td>2022-06-25</td>\n",
       "      <td>GTK</td>\n",
       "      <td>36.0</td>\n",
       "      <td>8000.0</td>\n",
       "      <td>Iphone</td>\n",
       "      <td>Bakı</td>\n",
       "      <td>F</td>\n",
       "      <td>Government's committees</td>\n",
       "      <td>Other</td>\n",
       "      <td>1242.00</td>\n",
       "      <td>23.953948</td>\n",
       "      <td>Baku</td>\n",
       "      <td>Baku</td>\n",
       "      <td>0</td>\n",
       "    </tr>\n",
       "    <tr>\n",
       "      <th>4</th>\n",
       "      <td>contract_44085</td>\n",
       "      <td>45084</td>\n",
       "      <td>2019-06-13</td>\n",
       "      <td>2023-06-13</td>\n",
       "      <td>GTK</td>\n",
       "      <td>48.0</td>\n",
       "      <td>7000.0</td>\n",
       "      <td>Xiaomi</td>\n",
       "      <td>Salyan</td>\n",
       "      <td>M</td>\n",
       "      <td>Executive Authority</td>\n",
       "      <td>Economist</td>\n",
       "      <td>365.43</td>\n",
       "      <td>29.999247</td>\n",
       "      <td>Aran</td>\n",
       "      <td>Aran</td>\n",
       "      <td>0</td>\n",
       "    </tr>\n",
       "    <tr>\n",
       "      <th>...</th>\n",
       "      <td>...</td>\n",
       "      <td>...</td>\n",
       "      <td>...</td>\n",
       "      <td>...</td>\n",
       "      <td>...</td>\n",
       "      <td>...</td>\n",
       "      <td>...</td>\n",
       "      <td>...</td>\n",
       "      <td>...</td>\n",
       "      <td>...</td>\n",
       "      <td>...</td>\n",
       "      <td>...</td>\n",
       "      <td>...</td>\n",
       "      <td>...</td>\n",
       "      <td>...</td>\n",
       "      <td>...</td>\n",
       "      <td>...</td>\n",
       "    </tr>\n",
       "    <tr>\n",
       "      <th>29995</th>\n",
       "      <td>contract_33007</td>\n",
       "      <td>12564</td>\n",
       "      <td>2019-12-18</td>\n",
       "      <td>2022-12-18</td>\n",
       "      <td>GTK</td>\n",
       "      <td>36.0</td>\n",
       "      <td>2120.0</td>\n",
       "      <td>Xiaomi</td>\n",
       "      <td>Astara</td>\n",
       "      <td>F</td>\n",
       "      <td>Executive Authority</td>\n",
       "      <td>Technision</td>\n",
       "      <td>207.00</td>\n",
       "      <td>37.654435</td>\n",
       "      <td>Lankaran</td>\n",
       "      <td>Lankaran</td>\n",
       "      <td>0</td>\n",
       "    </tr>\n",
       "    <tr>\n",
       "      <th>29996</th>\n",
       "      <td>contract_173631</td>\n",
       "      <td>174630</td>\n",
       "      <td>2019-09-16</td>\n",
       "      <td>2023-09-16</td>\n",
       "      <td>GTK</td>\n",
       "      <td>48.0</td>\n",
       "      <td>3350.0</td>\n",
       "      <td>Xiaomi</td>\n",
       "      <td>Tərtər</td>\n",
       "      <td>F</td>\n",
       "      <td>Other Ministries</td>\n",
       "      <td>Technision</td>\n",
       "      <td>263.25</td>\n",
       "      <td>NaN</td>\n",
       "      <td>Yukhari Qarabag</td>\n",
       "      <td>Baku</td>\n",
       "      <td>0</td>\n",
       "    </tr>\n",
       "    <tr>\n",
       "      <th>29997</th>\n",
       "      <td>contract_61236</td>\n",
       "      <td>62235</td>\n",
       "      <td>2019-07-17</td>\n",
       "      <td>2022-07-17</td>\n",
       "      <td>GTK</td>\n",
       "      <td>36.0</td>\n",
       "      <td>2340.0</td>\n",
       "      <td>Unknown</td>\n",
       "      <td>Zərdab</td>\n",
       "      <td>M</td>\n",
       "      <td>OJSC or CJSC Government's Companies</td>\n",
       "      <td>Technision</td>\n",
       "      <td>256.00</td>\n",
       "      <td>34.593455</td>\n",
       "      <td>Aran</td>\n",
       "      <td>Aran</td>\n",
       "      <td>0</td>\n",
       "    </tr>\n",
       "    <tr>\n",
       "      <th>29998</th>\n",
       "      <td>contract_209538</td>\n",
       "      <td>210537</td>\n",
       "      <td>2019-01-23</td>\n",
       "      <td>2020-01-23</td>\n",
       "      <td>GTK</td>\n",
       "      <td>12.0</td>\n",
       "      <td>2750.0</td>\n",
       "      <td>Xiaomi</td>\n",
       "      <td>Şəmkir</td>\n",
       "      <td>M</td>\n",
       "      <td>Ministry of Forces</td>\n",
       "      <td>Gizir\\MAXE</td>\n",
       "      <td>680.53</td>\n",
       "      <td>30.857495</td>\n",
       "      <td>Ganja-Qazakh</td>\n",
       "      <td>Ganja-Qazakh</td>\n",
       "      <td>0</td>\n",
       "    </tr>\n",
       "    <tr>\n",
       "      <th>29999</th>\n",
       "      <td>contract_66028</td>\n",
       "      <td>36204</td>\n",
       "      <td>2019-01-14</td>\n",
       "      <td>2021-01-14</td>\n",
       "      <td>GTK</td>\n",
       "      <td>24.0</td>\n",
       "      <td>860.0</td>\n",
       "      <td>Unknown</td>\n",
       "      <td>Sabirabad</td>\n",
       "      <td>M</td>\n",
       "      <td>OJSC or CJSC Government's Companies</td>\n",
       "      <td>Technision</td>\n",
       "      <td>285.11</td>\n",
       "      <td>48.992108</td>\n",
       "      <td>Aran</td>\n",
       "      <td>Aran</td>\n",
       "      <td>0</td>\n",
       "    </tr>\n",
       "  </tbody>\n",
       "</table>\n",
       "<p>30000 rows × 17 columns</p>\n",
       "</div>"
      ],
      "text/plain": [
       "           CONTRACT_NO  CUSTOMER_NO START_DATE DATE_OF_LOAN_MATURITY  PRODUCT  \\\n",
       "0       contract_25103        26102 2019-02-18            2024-10-01  BIRKART   \n",
       "1      contract_178508       179507 2019-08-09            2022-09-08      GTK   \n",
       "2       contract_44173        45172 2019-08-14            2024-10-07  BIRKART   \n",
       "3      contract_110572       111571 2019-06-25            2022-06-25      GTK   \n",
       "4       contract_44085        45084 2019-06-13            2023-06-13      GTK   \n",
       "...                ...          ...        ...                   ...      ...   \n",
       "29995   contract_33007        12564 2019-12-18            2022-12-18      GTK   \n",
       "29996  contract_173631       174630 2019-09-16            2023-09-16      GTK   \n",
       "29997   contract_61236        62235 2019-07-17            2022-07-17      GTK   \n",
       "29998  contract_209538       210537 2019-01-23            2020-01-23      GTK   \n",
       "29999   contract_66028        36204 2019-01-14            2021-01-14      GTK   \n",
       "\n",
       "       tenure  INITIAL_AMOUNT mobile_name CUSTOMER_CITY gender  \\\n",
       "0        60.0          6400.0      Iphone     Biləsuvar      M   \n",
       "1        36.0          2450.0     Unknown       Masallı      M   \n",
       "2        60.0          2200.0      Xiaomi          Bakı      M   \n",
       "3        36.0          8000.0      Iphone          Bakı      F   \n",
       "4        48.0          7000.0      Xiaomi        Salyan      M   \n",
       "...       ...             ...         ...           ...    ...   \n",
       "29995    36.0          2120.0      Xiaomi        Astara      F   \n",
       "29996    48.0          3350.0      Xiaomi        Tərtər      F   \n",
       "29997    36.0          2340.0     Unknown        Zərdab      M   \n",
       "29998    12.0          2750.0      Xiaomi        Şəmkir      M   \n",
       "29999    24.0           860.0     Unknown     Sabirabad      M   \n",
       "\n",
       "                                  Ministry    Position  Avg_salary        age  \\\n",
       "0              Ministry of Internal Affair       Other     1073.54  56.992272   \n",
       "1                    Ministry of Education     Teacher      399.84  34.938431   \n",
       "2                    Ministry of Emergency       Other     1064.94  35.965146   \n",
       "3                  Government's committees       Other     1242.00  23.953948   \n",
       "4                      Executive Authority   Economist      365.43  29.999247   \n",
       "...                                    ...         ...         ...        ...   \n",
       "29995                  Executive Authority  Technision      207.00  37.654435   \n",
       "29996                     Other Ministries  Technision      263.25        NaN   \n",
       "29997  OJSC or CJSC Government's Companies  Technision      256.00  34.593455   \n",
       "29998                   Ministry of Forces  Gizir\\MAXE      680.53  30.857495   \n",
       "29999  OJSC or CJSC Government's Companies  Technision      285.11  48.992108   \n",
       "\n",
       "       Region_Location Loan_location_group  Bad Flag  \n",
       "0                 Aran                Aran         0  \n",
       "1             Lankaran            Lankaran         0  \n",
       "2                 Baku                Baku         0  \n",
       "3                 Baku                Baku         0  \n",
       "4                 Aran                Aran         0  \n",
       "...                ...                 ...       ...  \n",
       "29995         Lankaran            Lankaran         0  \n",
       "29996  Yukhari Qarabag                Baku         0  \n",
       "29997             Aran                Aran         0  \n",
       "29998     Ganja-Qazakh        Ganja-Qazakh         0  \n",
       "29999             Aran                Aran         0  \n",
       "\n",
       "[30000 rows x 17 columns]"
      ]
     },
     "execution_count": 1,
     "metadata": {},
     "output_type": "execute_result"
    }
   ],
   "source": [
    "import numpy as np\n",
    "import pandas as pd\n",
    "\n",
    "df = pd.read_excel(\"interview_sample_data.xlsx\")\n",
    "df"
   ]
  },
  {
   "cell_type": "code",
   "execution_count": 2,
   "id": "19a8d3d4",
   "metadata": {},
   "outputs": [
    {
     "data": {
      "text/plain": [
       "CONTRACT_NO                0\n",
       "CUSTOMER_NO                0\n",
       "START_DATE                 0\n",
       "DATE_OF_LOAN_MATURITY     34\n",
       "PRODUCT                    0\n",
       "tenure                    34\n",
       "INITIAL_AMOUNT             0\n",
       "mobile_name                0\n",
       "CUSTOMER_CITY            192\n",
       "gender                   555\n",
       "Ministry                 478\n",
       "Position                   0\n",
       "Avg_salary               490\n",
       "age                      312\n",
       "Region_Location            0\n",
       "Loan_location_group        0\n",
       "Bad Flag                   0\n",
       "dtype: int64"
      ]
     },
     "execution_count": 2,
     "metadata": {},
     "output_type": "execute_result"
    }
   ],
   "source": [
    "df.isna().sum()"
   ]
  },
  {
   "cell_type": "markdown",
   "id": "77679a0e",
   "metadata": {},
   "source": [
    "### Filling NaN's in 'DATE_OF_LOAN_MATURITY' column with 'START_DATE' + average loan duration"
   ]
  },
  {
   "cell_type": "code",
   "execution_count": 3,
   "id": "5a6e3b4c",
   "metadata": {},
   "outputs": [],
   "source": [
    "from datetime import timedelta\n",
    "\n",
    "df_2 = df.copy()[['START_DATE', 'DATE_OF_LOAN_MATURITY']]\n",
    "df_2 = df_2.dropna()\n",
    "df_2 = df_2.reset_index()\n",
    "\n",
    "duration = []\n",
    "for i in range(0, len(df_2)):\n",
    "    duration.append(df_2['DATE_OF_LOAN_MATURITY'][i] - df_2['START_DATE'][i])\n",
    "\n",
    "df_2['Duration'] = duration\n",
    "mean_duration = df_2['Duration'].mean(numeric_only = False)\n",
    "mean_duration_days = timedelta(mean_duration.days)\n",
    "\n",
    "df['DATE_OF_LOAN_MATURITY'] = df['DATE_OF_LOAN_MATURITY'].fillna(df['START_DATE'] + mean_duration_days)"
   ]
  },
  {
   "cell_type": "markdown",
   "id": "2f71c8ed",
   "metadata": {},
   "source": [
    "### Filling NaN's in 'gender', 'Ministry', and 'CUSTOMER_CITY' columns with 'Unknown's"
   ]
  },
  {
   "cell_type": "code",
   "execution_count": 4,
   "id": "3b6ad63c",
   "metadata": {},
   "outputs": [],
   "source": [
    "df['gender'] = df['gender'].fillna('Unknown')\n",
    "df['Ministry'] = df['Ministry'].fillna('Unknown')\n",
    "df['CUSTOMER_CITY'] = df['CUSTOMER_CITY'].fillna('Unknown')"
   ]
  },
  {
   "cell_type": "markdown",
   "id": "d4612711",
   "metadata": {},
   "source": [
    "### Filling NaN's in 'tenure', 'Avg_salary', and 'age' columns with mean"
   ]
  },
  {
   "cell_type": "code",
   "execution_count": 5,
   "id": "85690a7b",
   "metadata": {},
   "outputs": [],
   "source": [
    "df['tenure'] = df['tenure'].fillna(df['tenure'].mean())\n",
    "df['Avg_salary'] = df['Avg_salary'].fillna(df['Avg_salary'].mean())\n",
    "df['age'] = df['age'].fillna(df['age'].mean())"
   ]
  },
  {
   "cell_type": "markdown",
   "id": "42839c61",
   "metadata": {},
   "source": [
    "### Data Cleaning"
   ]
  },
  {
   "cell_type": "code",
   "execution_count": 6,
   "id": "dfe861b5",
   "metadata": {},
   "outputs": [],
   "source": [
    "df['CUSTOMER_CITY'] = df['CUSTOMER_CITY'].replace(['Xanlar'], 'Göygöl')\n",
    "df['CUSTOMER_CITY'] = df['CUSTOMER_CITY'].replace(['Dəliməmmədli'],'Goranboy')\n",
    "df['CUSTOMER_CITY'] = df['CUSTOMER_CITY'].replace(['Baku'], 'Bakı')\n",
    "df['CUSTOMER_CITY'] = df['CUSTOMER_CITY'].replace(['Ismaıly'],'İsmayıllı')\n",
    "df['CUSTOMER_CITY'] = df['CUSTOMER_CITY'].replace(['SAATLI'],'Saatlı')\n",
    "df['CUSTOMER_CITY'] = df['CUSTOMER_CITY'].replace(['Tər-tər'],'Tərtər')\n",
    "df['CUSTOMER_CITY'] = df['CUSTOMER_CITY'].replace([',şahbuz'], 'Şahbuz')\n",
    "df['Loan_location_group'] = df['Loan_location_group'].replace(['null (missing)'], 'Unknown')\n",
    "df['Ministry'] = df['Ministry'].replace(['Not known'], 'Unknown')"
   ]
  },
  {
   "cell_type": "code",
   "execution_count": 7,
   "id": "65f03475",
   "metadata": {},
   "outputs": [
    {
     "data": {
      "text/plain": [
       "CONTRACT_NO              0\n",
       "CUSTOMER_NO              0\n",
       "START_DATE               0\n",
       "DATE_OF_LOAN_MATURITY    0\n",
       "PRODUCT                  0\n",
       "tenure                   0\n",
       "INITIAL_AMOUNT           0\n",
       "mobile_name              0\n",
       "CUSTOMER_CITY            0\n",
       "gender                   0\n",
       "Ministry                 0\n",
       "Position                 0\n",
       "Avg_salary               0\n",
       "age                      0\n",
       "Region_Location          0\n",
       "Loan_location_group      0\n",
       "Bad Flag                 0\n",
       "dtype: int64"
      ]
     },
     "execution_count": 7,
     "metadata": {},
     "output_type": "execute_result"
    }
   ],
   "source": [
    "df.isna().sum()"
   ]
  },
  {
   "cell_type": "code",
   "execution_count": 8,
   "id": "2fe6f20e",
   "metadata": {},
   "outputs": [],
   "source": [
    "for i in range(0, len(df['CONTRACT_NO'])):\n",
    "    df.loc[i,'CONTRACT_NO'] = df['CONTRACT_NO'][i][9:]\n",
    "\n",
    "df['CONTRACT_NO'] = df['CONTRACT_NO'].astype(np.int64)"
   ]
  },
  {
   "cell_type": "markdown",
   "id": "2cbc4011",
   "metadata": {},
   "source": [
    "### LabelEncoder"
   ]
  },
  {
   "cell_type": "code",
   "execution_count": 9,
   "id": "14027014",
   "metadata": {},
   "outputs": [],
   "source": [
    "from sklearn.preprocessing import LabelEncoder\n",
    "\n",
    "df_le = df.copy()\n",
    "\n",
    "le_PRODUCT = LabelEncoder()\n",
    "df_le['PRODUCT'] = le_PRODUCT.fit_transform(df_le['PRODUCT'])\n",
    "\n",
    "le_mobile_name = LabelEncoder()\n",
    "df_le['mobile_name'] = le_mobile_name.fit_transform(df_le['mobile_name'])\n",
    "\n",
    "le_CUSTOMER_CITY = LabelEncoder()\n",
    "df_le['CUSTOMER_CITY'] = le_CUSTOMER_CITY.fit_transform(df_le['CUSTOMER_CITY'])\n",
    "\n",
    "le_gender = LabelEncoder()\n",
    "df_le['gender'] = le_gender.fit_transform(df_le['gender'])\n",
    "\n",
    "le_Ministry = LabelEncoder()\n",
    "df_le['Ministry'] = le_Ministry.fit_transform(df_le['Ministry'])\n",
    "\n",
    "le_Position = LabelEncoder()\n",
    "df_le['Position'] = le_Position.fit_transform(df_le['Position'])\n",
    "\n",
    "le_Region_Location = LabelEncoder()\n",
    "df_le['Region_Location'] = le_Region_Location.fit_transform(df_le['Region_Location'])\n",
    "\n",
    "le_Loan_location_group = LabelEncoder()\n",
    "df_le['Loan_location_group'] = le_Loan_location_group.fit_transform(df_le['Loan_location_group'])"
   ]
  },
  {
   "cell_type": "code",
   "execution_count": 10,
   "id": "21eaefee",
   "metadata": {},
   "outputs": [
    {
     "data": {
      "text/html": [
       "<div>\n",
       "<style scoped>\n",
       "    .dataframe tbody tr th:only-of-type {\n",
       "        vertical-align: middle;\n",
       "    }\n",
       "\n",
       "    .dataframe tbody tr th {\n",
       "        vertical-align: top;\n",
       "    }\n",
       "\n",
       "    .dataframe thead th {\n",
       "        text-align: right;\n",
       "    }\n",
       "</style>\n",
       "<table border=\"1\" class=\"dataframe\">\n",
       "  <thead>\n",
       "    <tr style=\"text-align: right;\">\n",
       "      <th></th>\n",
       "      <th>CONTRACT_NO</th>\n",
       "      <th>CUSTOMER_NO</th>\n",
       "      <th>START_DATE</th>\n",
       "      <th>DATE_OF_LOAN_MATURITY</th>\n",
       "      <th>PRODUCT</th>\n",
       "      <th>tenure</th>\n",
       "      <th>INITIAL_AMOUNT</th>\n",
       "      <th>mobile_name</th>\n",
       "      <th>CUSTOMER_CITY</th>\n",
       "      <th>gender</th>\n",
       "      <th>Ministry</th>\n",
       "      <th>Position</th>\n",
       "      <th>Avg_salary</th>\n",
       "      <th>age</th>\n",
       "      <th>Region_Location</th>\n",
       "      <th>Loan_location_group</th>\n",
       "      <th>Bad Flag</th>\n",
       "    </tr>\n",
       "  </thead>\n",
       "  <tbody>\n",
       "    <tr>\n",
       "      <th>0</th>\n",
       "      <td>25103</td>\n",
       "      <td>26102</td>\n",
       "      <td>2019-02-18</td>\n",
       "      <td>2024-10-01</td>\n",
       "      <td>0</td>\n",
       "      <td>60.0</td>\n",
       "      <td>6400.0</td>\n",
       "      <td>2</td>\n",
       "      <td>11</td>\n",
       "      <td>1</td>\n",
       "      <td>7</td>\n",
       "      <td>9</td>\n",
       "      <td>1073.54</td>\n",
       "      <td>56.992272</td>\n",
       "      <td>1</td>\n",
       "      <td>1</td>\n",
       "      <td>0</td>\n",
       "    </tr>\n",
       "    <tr>\n",
       "      <th>1</th>\n",
       "      <td>178508</td>\n",
       "      <td>179507</td>\n",
       "      <td>2019-08-09</td>\n",
       "      <td>2022-09-08</td>\n",
       "      <td>1</td>\n",
       "      <td>36.0</td>\n",
       "      <td>2450.0</td>\n",
       "      <td>9</td>\n",
       "      <td>30</td>\n",
       "      <td>1</td>\n",
       "      <td>4</td>\n",
       "      <td>11</td>\n",
       "      <td>399.84</td>\n",
       "      <td>34.938431</td>\n",
       "      <td>5</td>\n",
       "      <td>5</td>\n",
       "      <td>0</td>\n",
       "    </tr>\n",
       "    <tr>\n",
       "      <th>2</th>\n",
       "      <td>44173</td>\n",
       "      <td>45172</td>\n",
       "      <td>2019-08-14</td>\n",
       "      <td>2024-10-07</td>\n",
       "      <td>0</td>\n",
       "      <td>60.0</td>\n",
       "      <td>2200.0</td>\n",
       "      <td>11</td>\n",
       "      <td>8</td>\n",
       "      <td>1</td>\n",
       "      <td>5</td>\n",
       "      <td>9</td>\n",
       "      <td>1064.94</td>\n",
       "      <td>35.965146</td>\n",
       "      <td>2</td>\n",
       "      <td>2</td>\n",
       "      <td>0</td>\n",
       "    </tr>\n",
       "    <tr>\n",
       "      <th>3</th>\n",
       "      <td>110572</td>\n",
       "      <td>111571</td>\n",
       "      <td>2019-06-25</td>\n",
       "      <td>2022-06-25</td>\n",
       "      <td>1</td>\n",
       "      <td>36.0</td>\n",
       "      <td>8000.0</td>\n",
       "      <td>2</td>\n",
       "      <td>8</td>\n",
       "      <td>0</td>\n",
       "      <td>2</td>\n",
       "      <td>9</td>\n",
       "      <td>1242.00</td>\n",
       "      <td>23.953948</td>\n",
       "      <td>2</td>\n",
       "      <td>2</td>\n",
       "      <td>0</td>\n",
       "    </tr>\n",
       "    <tr>\n",
       "      <th>4</th>\n",
       "      <td>44085</td>\n",
       "      <td>45084</td>\n",
       "      <td>2019-06-13</td>\n",
       "      <td>2023-06-13</td>\n",
       "      <td>1</td>\n",
       "      <td>48.0</td>\n",
       "      <td>7000.0</td>\n",
       "      <td>11</td>\n",
       "      <td>46</td>\n",
       "      <td>1</td>\n",
       "      <td>0</td>\n",
       "      <td>0</td>\n",
       "      <td>365.43</td>\n",
       "      <td>29.999247</td>\n",
       "      <td>1</td>\n",
       "      <td>1</td>\n",
       "      <td>0</td>\n",
       "    </tr>\n",
       "    <tr>\n",
       "      <th>...</th>\n",
       "      <td>...</td>\n",
       "      <td>...</td>\n",
       "      <td>...</td>\n",
       "      <td>...</td>\n",
       "      <td>...</td>\n",
       "      <td>...</td>\n",
       "      <td>...</td>\n",
       "      <td>...</td>\n",
       "      <td>...</td>\n",
       "      <td>...</td>\n",
       "      <td>...</td>\n",
       "      <td>...</td>\n",
       "      <td>...</td>\n",
       "      <td>...</td>\n",
       "      <td>...</td>\n",
       "      <td>...</td>\n",
       "      <td>...</td>\n",
       "    </tr>\n",
       "    <tr>\n",
       "      <th>29995</th>\n",
       "      <td>33007</td>\n",
       "      <td>12564</td>\n",
       "      <td>2019-12-18</td>\n",
       "      <td>2022-12-18</td>\n",
       "      <td>1</td>\n",
       "      <td>36.0</td>\n",
       "      <td>2120.0</td>\n",
       "      <td>11</td>\n",
       "      <td>1</td>\n",
       "      <td>0</td>\n",
       "      <td>0</td>\n",
       "      <td>12</td>\n",
       "      <td>207.00</td>\n",
       "      <td>37.654435</td>\n",
       "      <td>5</td>\n",
       "      <td>5</td>\n",
       "      <td>0</td>\n",
       "    </tr>\n",
       "    <tr>\n",
       "      <th>29996</th>\n",
       "      <td>173631</td>\n",
       "      <td>174630</td>\n",
       "      <td>2019-09-16</td>\n",
       "      <td>2023-09-16</td>\n",
       "      <td>1</td>\n",
       "      <td>48.0</td>\n",
       "      <td>3350.0</td>\n",
       "      <td>11</td>\n",
       "      <td>52</td>\n",
       "      <td>0</td>\n",
       "      <td>10</td>\n",
       "      <td>12</td>\n",
       "      <td>263.25</td>\n",
       "      <td>39.577453</td>\n",
       "      <td>9</td>\n",
       "      <td>2</td>\n",
       "      <td>0</td>\n",
       "    </tr>\n",
       "    <tr>\n",
       "      <th>29997</th>\n",
       "      <td>61236</td>\n",
       "      <td>62235</td>\n",
       "      <td>2019-07-17</td>\n",
       "      <td>2022-07-17</td>\n",
       "      <td>1</td>\n",
       "      <td>36.0</td>\n",
       "      <td>2340.0</td>\n",
       "      <td>9</td>\n",
       "      <td>66</td>\n",
       "      <td>1</td>\n",
       "      <td>9</td>\n",
       "      <td>12</td>\n",
       "      <td>256.00</td>\n",
       "      <td>34.593455</td>\n",
       "      <td>1</td>\n",
       "      <td>1</td>\n",
       "      <td>0</td>\n",
       "    </tr>\n",
       "    <tr>\n",
       "      <th>29998</th>\n",
       "      <td>209538</td>\n",
       "      <td>210537</td>\n",
       "      <td>2019-01-23</td>\n",
       "      <td>2020-01-23</td>\n",
       "      <td>1</td>\n",
       "      <td>12.0</td>\n",
       "      <td>2750.0</td>\n",
       "      <td>11</td>\n",
       "      <td>75</td>\n",
       "      <td>1</td>\n",
       "      <td>6</td>\n",
       "      <td>2</td>\n",
       "      <td>680.53</td>\n",
       "      <td>30.857495</td>\n",
       "      <td>4</td>\n",
       "      <td>4</td>\n",
       "      <td>0</td>\n",
       "    </tr>\n",
       "    <tr>\n",
       "      <th>29999</th>\n",
       "      <td>66028</td>\n",
       "      <td>36204</td>\n",
       "      <td>2019-01-14</td>\n",
       "      <td>2021-01-14</td>\n",
       "      <td>1</td>\n",
       "      <td>24.0</td>\n",
       "      <td>860.0</td>\n",
       "      <td>9</td>\n",
       "      <td>45</td>\n",
       "      <td>1</td>\n",
       "      <td>9</td>\n",
       "      <td>12</td>\n",
       "      <td>285.11</td>\n",
       "      <td>48.992108</td>\n",
       "      <td>1</td>\n",
       "      <td>1</td>\n",
       "      <td>0</td>\n",
       "    </tr>\n",
       "  </tbody>\n",
       "</table>\n",
       "<p>30000 rows × 17 columns</p>\n",
       "</div>"
      ],
      "text/plain": [
       "       CONTRACT_NO  CUSTOMER_NO START_DATE DATE_OF_LOAN_MATURITY  PRODUCT  \\\n",
       "0            25103        26102 2019-02-18            2024-10-01        0   \n",
       "1           178508       179507 2019-08-09            2022-09-08        1   \n",
       "2            44173        45172 2019-08-14            2024-10-07        0   \n",
       "3           110572       111571 2019-06-25            2022-06-25        1   \n",
       "4            44085        45084 2019-06-13            2023-06-13        1   \n",
       "...            ...          ...        ...                   ...      ...   \n",
       "29995        33007        12564 2019-12-18            2022-12-18        1   \n",
       "29996       173631       174630 2019-09-16            2023-09-16        1   \n",
       "29997        61236        62235 2019-07-17            2022-07-17        1   \n",
       "29998       209538       210537 2019-01-23            2020-01-23        1   \n",
       "29999        66028        36204 2019-01-14            2021-01-14        1   \n",
       "\n",
       "       tenure  INITIAL_AMOUNT  mobile_name  CUSTOMER_CITY  gender  Ministry  \\\n",
       "0        60.0          6400.0            2             11       1         7   \n",
       "1        36.0          2450.0            9             30       1         4   \n",
       "2        60.0          2200.0           11              8       1         5   \n",
       "3        36.0          8000.0            2              8       0         2   \n",
       "4        48.0          7000.0           11             46       1         0   \n",
       "...       ...             ...          ...            ...     ...       ...   \n",
       "29995    36.0          2120.0           11              1       0         0   \n",
       "29996    48.0          3350.0           11             52       0        10   \n",
       "29997    36.0          2340.0            9             66       1         9   \n",
       "29998    12.0          2750.0           11             75       1         6   \n",
       "29999    24.0           860.0            9             45       1         9   \n",
       "\n",
       "       Position  Avg_salary        age  Region_Location  Loan_location_group  \\\n",
       "0             9     1073.54  56.992272                1                    1   \n",
       "1            11      399.84  34.938431                5                    5   \n",
       "2             9     1064.94  35.965146                2                    2   \n",
       "3             9     1242.00  23.953948                2                    2   \n",
       "4             0      365.43  29.999247                1                    1   \n",
       "...         ...         ...        ...              ...                  ...   \n",
       "29995        12      207.00  37.654435                5                    5   \n",
       "29996        12      263.25  39.577453                9                    2   \n",
       "29997        12      256.00  34.593455                1                    1   \n",
       "29998         2      680.53  30.857495                4                    4   \n",
       "29999        12      285.11  48.992108                1                    1   \n",
       "\n",
       "       Bad Flag  \n",
       "0             0  \n",
       "1             0  \n",
       "2             0  \n",
       "3             0  \n",
       "4             0  \n",
       "...         ...  \n",
       "29995         0  \n",
       "29996         0  \n",
       "29997         0  \n",
       "29998         0  \n",
       "29999         0  \n",
       "\n",
       "[30000 rows x 17 columns]"
      ]
     },
     "execution_count": 10,
     "metadata": {},
     "output_type": "execute_result"
    }
   ],
   "source": [
    "df_le"
   ]
  },
  {
   "cell_type": "markdown",
   "id": "fba03a9c",
   "metadata": {},
   "source": [
    "# 2 Data Visualization"
   ]
  },
  {
   "cell_type": "code",
   "execution_count": 11,
   "id": "0694a026",
   "metadata": {},
   "outputs": [
    {
     "data": {
      "text/plain": [
       "Text(0, 0.5, 'Position')"
      ]
     },
     "execution_count": 11,
     "metadata": {},
     "output_type": "execute_result"
    },
    {
     "data": {
      "image/png": "[encoded data removed]",
      "text/plain": [
       "<Figure size 432x288 with 1 Axes>"
      ]
     },
     "metadata": {
      "needs_background": "light"
     },
     "output_type": "display_data"
    }
   ],
   "source": [
    "import matplotlib.pyplot as plt\n",
    "\n",
    "fig, ax = plt.subplots()\n",
    "ax.scatter(df['Avg_salary'], df['Position'])\n",
    "ax.set_xlabel('Avg_salary')\n",
    "ax.set_ylabel('Position')"
   ]
  },
  {
   "cell_type": "code",
   "execution_count": 12,
   "id": "4b1bb864",
   "metadata": {},
   "outputs": [
    {
     "data": {
      "text/plain": [
       "Text(0, 0.5, 'Tenure')"
      ]
     },
     "execution_count": 12,
     "metadata": {},
     "output_type": "execute_result"
    },
    {
     "data": {
      "image/png": "[encoded data removed]",
      "text/plain": [
       "<Figure size 432x288 with 1 Axes>"
      ]
     },
     "metadata": {
      "needs_background": "light"
     },
     "output_type": "display_data"
    }
   ],
   "source": [
    "fig, ax = plt.subplots()\n",
    "ax.scatter(df['Avg_salary'], df['tenure'], color='red')\n",
    "ax.set_xlabel('Avg_salary')\n",
    "ax.set_ylabel('Tenure')"
   ]
  },
  {
   "cell_type": "code",
   "execution_count": 13,
   "id": "2d6ad123",
   "metadata": {},
   "outputs": [
    {
     "data": {
      "text/plain": [
       "Text(0, 0.5, 'Frequency')"
      ]
     },
     "execution_count": 13,
     "metadata": {},
     "output_type": "execute_result"
    },
    {
     "data": {
      "image/png": "[encoded data removed]",
      "text/plain": [
       "<Figure size 360x216 with 1 Axes>"
      ]
     },
     "metadata": {
      "needs_background": "light"
     },
     "output_type": "display_data"
    }
   ],
   "source": [
    "fig, ax = plt.subplots()\n",
    "fig.set_figheight(3)\n",
    "fig.set_figwidth(5)\n",
    "data = df['Bad Flag'].value_counts() \n",
    "points = data.index \n",
    "frequency = data.values \n",
    "ax.bar(points, frequency) \n",
    "ax.set_xlabel('Bad Flag') \n",
    "ax.set_ylabel('Frequency')"
   ]
  },
  {
   "cell_type": "code",
   "execution_count": 14,
   "id": "79539eb0",
   "metadata": {},
   "outputs": [
    {
     "data": {
      "text/plain": [
       "Text(0, 0.5, 'Frequency')"
      ]
     },
     "execution_count": 14,
     "metadata": {},
     "output_type": "execute_result"
    },
    {
     "data": {
      "image/png": "[encoded data removed]",
      "text/plain": [
       "<Figure size 360x216 with 1 Axes>"
      ]
     },
     "metadata": {
      "needs_background": "light"
     },
     "output_type": "display_data"
    }
   ],
   "source": [
    "fig, ax = plt.subplots()\n",
    "fig.set_figheight(3)\n",
    "fig.set_figwidth(5)\n",
    "data = df['PRODUCT'].value_counts() \n",
    "points = data.index \n",
    "frequency = data.values \n",
    "ax.bar(points, frequency, color='red') \n",
    "ax.set_xlabel('PRODUCT') \n",
    "ax.set_ylabel('Frequency')"
   ]
  },
  {
   "cell_type": "markdown",
   "id": "a261e5dd",
   "metadata": {},
   "source": [
    "<b>Our target class has overwhelmingly more samples for class '0' than class '1' which can create problems in model performance. We will deal with it in the upcoming sections.</b>"
   ]
  },
  {
   "cell_type": "code",
   "execution_count": 15,
   "id": "c508bdf1",
   "metadata": {},
   "outputs": [
    {
     "data": {
      "text/plain": [
       "Text(0, 0.5, 'Frequency')"
      ]
     },
     "execution_count": 15,
     "metadata": {},
     "output_type": "execute_result"
    },
    {
     "data": {
      "image/png": "[encoded data removed]",
      "text/plain": [
       "<Figure size 1080x216 with 1 Axes>"
      ]
     },
     "metadata": {
      "needs_background": "light"
     },
     "output_type": "display_data"
    }
   ],
   "source": [
    "fig, ax = plt.subplots()\n",
    "fig.set_figheight(3)\n",
    "fig.set_figwidth(15)\n",
    "data = df['mobile_name'].value_counts() \n",
    "points = data.index \n",
    "frequency = data.values \n",
    "ax.bar(points, frequency) \n",
    "ax.set_xlabel('Mobile Name') \n",
    "ax.set_ylabel('Frequency')"
   ]
  },
  {
   "cell_type": "code",
   "execution_count": 16,
   "id": "a02115a5",
   "metadata": {},
   "outputs": [
    {
     "data": {
      "image/png": "[encoded data removed]",
      "text/plain": [
       "<Figure size 432x288 with 1 Axes>"
      ]
     },
     "metadata": {
      "needs_background": "light"
     },
     "output_type": "display_data"
    }
   ],
   "source": [
    "plt.hist(df['age'], color = 'red')\n",
    "plt.xlabel('Age')\n",
    "plt.ylabel('Frequency')\n",
    "plt.show()"
   ]
  },
  {
   "cell_type": "markdown",
   "id": "f8411894",
   "metadata": {},
   "source": [
    "# 3 Outlier Treatment"
   ]
  },
  {
   "cell_type": "markdown",
   "id": "d1396cf1",
   "metadata": {},
   "source": [
    "### Z-score treatment"
   ]
  },
  {
   "cell_type": "code",
   "execution_count": 17,
   "id": "144059dc",
   "metadata": {},
   "outputs": [],
   "source": [
    "import warnings\n",
    "warnings.filterwarnings('ignore')"
   ]
  },
  {
   "cell_type": "code",
   "execution_count": 18,
   "id": "6f35984f",
   "metadata": {},
   "outputs": [
    {
     "data": {
      "image/png": "[encoded data removed]",
      "text/plain": [
       "<Figure size 1152x360 with 2 Axes>"
      ]
     },
     "metadata": {
      "needs_background": "light"
     },
     "output_type": "display_data"
    }
   ],
   "source": [
    "import seaborn as sns\n",
    "\n",
    "plt.figure(figsize=(16,5))\n",
    "plt.subplot(1,2,1)\n",
    "sns.distplot(df_le['tenure'])\n",
    "plt.subplot(1,2,2)\n",
    "sns.distplot(df_le['INITIAL_AMOUNT'])\n",
    "plt.show()"
   ]
  },
  {
   "cell_type": "code",
   "execution_count": 19,
   "id": "40d602ce",
   "metadata": {},
   "outputs": [
    {
     "data": {
      "image/png": "[encoded data removed]",
      "text/plain": [
       "<Figure size 1152x360 with 2 Axes>"
      ]
     },
     "metadata": {
      "needs_background": "light"
     },
     "output_type": "display_data"
    }
   ],
   "source": [
    "plt.figure(figsize=(16,5))\n",
    "plt.subplot(1,2,1)\n",
    "sns.distplot(df_le['Avg_salary'])\n",
    "plt.subplot(1,2,2)\n",
    "sns.distplot(df_le['age'])\n",
    "plt.show()"
   ]
  },
  {
   "cell_type": "code",
   "execution_count": 20,
   "id": "0e0f6d37",
   "metadata": {},
   "outputs": [
    {
     "name": "stdout",
     "output_type": "stream",
     "text": [
      "Maximum value of 'tenure':  60.0\n",
      "Minimum value of 'tenure':  0.0 \n",
      "\n",
      "Maximum value of 'INITIAL_AMOUNT':  20000.0\n",
      "Minimum value of 'INITIAL_AMOUNT':  310.0 \n",
      "\n",
      "Maximum value of 'Avg_salary':  100000.0\n",
      "Minimum value of 'Avg_salary':  69.0 \n",
      "\n",
      "Maximum value of 'age':  68.80360308562119\n",
      "Minimum value of 'age':  18.02637973401233 \n",
      "\n"
     ]
    }
   ],
   "source": [
    "print(\"Maximum value of 'tenure': \", df_le['tenure'].max())\n",
    "print(\"Minimum value of 'tenure': \", df_le['tenure'].min(), \"\\n\")\n",
    "\n",
    "print(\"Maximum value of 'INITIAL_AMOUNT': \", df_le['INITIAL_AMOUNT'].max())\n",
    "print(\"Minimum value of 'INITIAL_AMOUNT': \", df_le['INITIAL_AMOUNT'].min(), \"\\n\")\n",
    "\n",
    "print(\"Maximum value of 'Avg_salary': \", df_le['Avg_salary'].max())\n",
    "print(\"Minimum value of 'Avg_salary': \", df_le['Avg_salary'].min(), \"\\n\")\n",
    "\n",
    "print(\"Maximum value of 'age': \", df_le['age'].max())\n",
    "print(\"Minimum value of 'age': \", df_le['age'].min(), \"\\n\")"
   ]
  },
  {
   "cell_type": "code",
   "execution_count": 21,
   "id": "557cf099",
   "metadata": {},
   "outputs": [
    {
     "name": "stdout",
     "output_type": "stream",
     "text": [
      "Highest allowed 'tenure':  91.6496840102879\n",
      "Lowest allowed 'tenure':  -8.704679672037884 \n",
      "\n",
      "Highest allowed 'INITIAL_AMOUNT':  11403.010755312507\n",
      "Lowest allowed 'INITIAL_AMOUNT':  -4696.591333979171 \n",
      "\n",
      "Highest allowed 'Avg_salary':  3650.287307515098\n",
      "Lowest allowed 'Avg_salary':  -2512.1628021278725 \n",
      "\n",
      "Highest allowed 'age':  74.0016619749305\n",
      "Lowest allowed 'age':  5.153244793409925 \n",
      "\n"
     ]
    }
   ],
   "source": [
    "tenure_upper = df_le['tenure'].mean() + 3 * df_le['tenure'].std()\n",
    "tenure_lower = df_le['tenure'].mean() - 3 * df_le['tenure'].std()\n",
    "print(\"Highest allowed 'tenure': \", tenure_upper)\n",
    "print(\"Lowest allowed 'tenure': \", tenure_lower, \"\\n\")\n",
    "\n",
    "INITIAL_AMOUNT_upper = df_le['INITIAL_AMOUNT'].mean() + 3 * df_le['INITIAL_AMOUNT'].std()\n",
    "INITIAL_AMOUNT_lower = df_le['INITIAL_AMOUNT'].mean() - 3 * df_le['INITIAL_AMOUNT'].std()\n",
    "print(\"Highest allowed 'INITIAL_AMOUNT': \", INITIAL_AMOUNT_upper)\n",
    "print(\"Lowest allowed 'INITIAL_AMOUNT': \", INITIAL_AMOUNT_lower, \"\\n\")\n",
    "\n",
    "Avg_salary_upper = df_le['Avg_salary'].mean() + 3 * df_le['Avg_salary'].std()\n",
    "Avg_salary_lower = df_le['Avg_salary'].mean() - 3 * df_le['Avg_salary'].std()\n",
    "print(\"Highest allowed 'Avg_salary': \", Avg_salary_upper)\n",
    "print(\"Lowest allowed 'Avg_salary': \", Avg_salary_lower, \"\\n\")\n",
    "\n",
    "age_upper = df_le['age'].mean() + 3 * df_le['age'].std()\n",
    "age_lower = df_le['age'].mean() - 3 * df_le['age'].std()\n",
    "print(\"Highest allowed 'age': \", age_upper)\n",
    "print(\"Lowest allowed 'age': \", age_lower, \"\\n\")"
   ]
  },
  {
   "cell_type": "markdown",
   "id": "8cfb4902",
   "metadata": {},
   "source": [
    "<b>According to graphs and upper & lower limits retrieved from Z-score treatment, columns \"INITIAL_AMOUNT\" and \"Avg_salary\" contains outliers.</b>"
   ]
  },
  {
   "cell_type": "code",
   "execution_count": 22,
   "id": "5f4a9672",
   "metadata": {},
   "outputs": [
    {
     "data": {
      "text/html": [
       "<div>\n",
       "<style scoped>\n",
       "    .dataframe tbody tr th:only-of-type {\n",
       "        vertical-align: middle;\n",
       "    }\n",
       "\n",
       "    .dataframe tbody tr th {\n",
       "        vertical-align: top;\n",
       "    }\n",
       "\n",
       "    .dataframe thead th {\n",
       "        text-align: right;\n",
       "    }\n",
       "</style>\n",
       "<table border=\"1\" class=\"dataframe\">\n",
       "  <thead>\n",
       "    <tr style=\"text-align: right;\">\n",
       "      <th></th>\n",
       "      <th>CONTRACT_NO</th>\n",
       "      <th>CUSTOMER_NO</th>\n",
       "      <th>START_DATE</th>\n",
       "      <th>DATE_OF_LOAN_MATURITY</th>\n",
       "      <th>PRODUCT</th>\n",
       "      <th>tenure</th>\n",
       "      <th>INITIAL_AMOUNT</th>\n",
       "      <th>mobile_name</th>\n",
       "      <th>CUSTOMER_CITY</th>\n",
       "      <th>gender</th>\n",
       "      <th>Ministry</th>\n",
       "      <th>Position</th>\n",
       "      <th>Avg_salary</th>\n",
       "      <th>age</th>\n",
       "      <th>Region_Location</th>\n",
       "      <th>Loan_location_group</th>\n",
       "      <th>Bad Flag</th>\n",
       "    </tr>\n",
       "  </thead>\n",
       "  <tbody>\n",
       "    <tr>\n",
       "      <th>116</th>\n",
       "      <td>98035</td>\n",
       "      <td>99034</td>\n",
       "      <td>2019-02-18</td>\n",
       "      <td>2023-02-18</td>\n",
       "      <td>1</td>\n",
       "      <td>48.0</td>\n",
       "      <td>12700.0</td>\n",
       "      <td>2</td>\n",
       "      <td>60</td>\n",
       "      <td>0</td>\n",
       "      <td>1</td>\n",
       "      <td>12</td>\n",
       "      <td>1018.00</td>\n",
       "      <td>22.798552</td>\n",
       "      <td>0</td>\n",
       "      <td>2</td>\n",
       "      <td>0</td>\n",
       "    </tr>\n",
       "    <tr>\n",
       "      <th>137</th>\n",
       "      <td>163005</td>\n",
       "      <td>89798</td>\n",
       "      <td>2019-07-09</td>\n",
       "      <td>2022-09-07</td>\n",
       "      <td>1</td>\n",
       "      <td>36.0</td>\n",
       "      <td>19000.0</td>\n",
       "      <td>7</td>\n",
       "      <td>58</td>\n",
       "      <td>1</td>\n",
       "      <td>6</td>\n",
       "      <td>2</td>\n",
       "      <td>1577.39</td>\n",
       "      <td>26.502940</td>\n",
       "      <td>9</td>\n",
       "      <td>1</td>\n",
       "      <td>0</td>\n",
       "    </tr>\n",
       "    <tr>\n",
       "      <th>164</th>\n",
       "      <td>207513</td>\n",
       "      <td>208512</td>\n",
       "      <td>2019-07-12</td>\n",
       "      <td>2023-12-07</td>\n",
       "      <td>1</td>\n",
       "      <td>48.0</td>\n",
       "      <td>13000.0</td>\n",
       "      <td>11</td>\n",
       "      <td>8</td>\n",
       "      <td>1</td>\n",
       "      <td>5</td>\n",
       "      <td>6</td>\n",
       "      <td>1410.00</td>\n",
       "      <td>40.931710</td>\n",
       "      <td>2</td>\n",
       "      <td>0</td>\n",
       "      <td>0</td>\n",
       "    </tr>\n",
       "    <tr>\n",
       "      <th>262</th>\n",
       "      <td>166341</td>\n",
       "      <td>50293</td>\n",
       "      <td>2019-07-09</td>\n",
       "      <td>2023-09-07</td>\n",
       "      <td>1</td>\n",
       "      <td>48.0</td>\n",
       "      <td>12600.0</td>\n",
       "      <td>9</td>\n",
       "      <td>49</td>\n",
       "      <td>0</td>\n",
       "      <td>4</td>\n",
       "      <td>11</td>\n",
       "      <td>910.00</td>\n",
       "      <td>59.478292</td>\n",
       "      <td>0</td>\n",
       "      <td>0</td>\n",
       "      <td>1</td>\n",
       "    </tr>\n",
       "    <tr>\n",
       "      <th>311</th>\n",
       "      <td>10144</td>\n",
       "      <td>11143</td>\n",
       "      <td>2019-01-25</td>\n",
       "      <td>2023-01-25</td>\n",
       "      <td>1</td>\n",
       "      <td>48.0</td>\n",
       "      <td>11550.0</td>\n",
       "      <td>9</td>\n",
       "      <td>72</td>\n",
       "      <td>1</td>\n",
       "      <td>0</td>\n",
       "      <td>6</td>\n",
       "      <td>796.49</td>\n",
       "      <td>52.803275</td>\n",
       "      <td>1</td>\n",
       "      <td>1</td>\n",
       "      <td>0</td>\n",
       "    </tr>\n",
       "    <tr>\n",
       "      <th>...</th>\n",
       "      <td>...</td>\n",
       "      <td>...</td>\n",
       "      <td>...</td>\n",
       "      <td>...</td>\n",
       "      <td>...</td>\n",
       "      <td>...</td>\n",
       "      <td>...</td>\n",
       "      <td>...</td>\n",
       "      <td>...</td>\n",
       "      <td>...</td>\n",
       "      <td>...</td>\n",
       "      <td>...</td>\n",
       "      <td>...</td>\n",
       "      <td>...</td>\n",
       "      <td>...</td>\n",
       "      <td>...</td>\n",
       "      <td>...</td>\n",
       "    </tr>\n",
       "    <tr>\n",
       "      <th>29694</th>\n",
       "      <td>178743</td>\n",
       "      <td>111836</td>\n",
       "      <td>2019-03-28</td>\n",
       "      <td>2023-03-28</td>\n",
       "      <td>1</td>\n",
       "      <td>48.0</td>\n",
       "      <td>14200.0</td>\n",
       "      <td>7</td>\n",
       "      <td>22</td>\n",
       "      <td>1</td>\n",
       "      <td>4</td>\n",
       "      <td>11</td>\n",
       "      <td>1225.47</td>\n",
       "      <td>46.801782</td>\n",
       "      <td>4</td>\n",
       "      <td>4</td>\n",
       "      <td>0</td>\n",
       "    </tr>\n",
       "    <tr>\n",
       "      <th>29863</th>\n",
       "      <td>28230</td>\n",
       "      <td>29229</td>\n",
       "      <td>2019-03-28</td>\n",
       "      <td>2023-03-28</td>\n",
       "      <td>1</td>\n",
       "      <td>48.0</td>\n",
       "      <td>20000.0</td>\n",
       "      <td>9</td>\n",
       "      <td>8</td>\n",
       "      <td>1</td>\n",
       "      <td>10</td>\n",
       "      <td>6</td>\n",
       "      <td>1394.09</td>\n",
       "      <td>49.109838</td>\n",
       "      <td>2</td>\n",
       "      <td>2</td>\n",
       "      <td>0</td>\n",
       "    </tr>\n",
       "    <tr>\n",
       "      <th>29904</th>\n",
       "      <td>92085</td>\n",
       "      <td>93084</td>\n",
       "      <td>2019-04-09</td>\n",
       "      <td>2023-09-04</td>\n",
       "      <td>1</td>\n",
       "      <td>48.0</td>\n",
       "      <td>20000.0</td>\n",
       "      <td>12</td>\n",
       "      <td>8</td>\n",
       "      <td>1</td>\n",
       "      <td>10</td>\n",
       "      <td>7</td>\n",
       "      <td>1545.73</td>\n",
       "      <td>36.685216</td>\n",
       "      <td>2</td>\n",
       "      <td>2</td>\n",
       "      <td>0</td>\n",
       "    </tr>\n",
       "    <tr>\n",
       "      <th>29932</th>\n",
       "      <td>95428</td>\n",
       "      <td>96427</td>\n",
       "      <td>2019-05-17</td>\n",
       "      <td>2023-05-17</td>\n",
       "      <td>1</td>\n",
       "      <td>48.0</td>\n",
       "      <td>20000.0</td>\n",
       "      <td>2</td>\n",
       "      <td>63</td>\n",
       "      <td>0</td>\n",
       "      <td>2</td>\n",
       "      <td>0</td>\n",
       "      <td>1644.63</td>\n",
       "      <td>28.197704</td>\n",
       "      <td>2</td>\n",
       "      <td>1</td>\n",
       "      <td>0</td>\n",
       "    </tr>\n",
       "    <tr>\n",
       "      <th>29942</th>\n",
       "      <td>80348</td>\n",
       "      <td>81347</td>\n",
       "      <td>2019-02-05</td>\n",
       "      <td>2023-05-02</td>\n",
       "      <td>1</td>\n",
       "      <td>48.0</td>\n",
       "      <td>14460.0</td>\n",
       "      <td>7</td>\n",
       "      <td>30</td>\n",
       "      <td>1</td>\n",
       "      <td>6</td>\n",
       "      <td>9</td>\n",
       "      <td>744.13</td>\n",
       "      <td>30.177211</td>\n",
       "      <td>8</td>\n",
       "      <td>8</td>\n",
       "      <td>0</td>\n",
       "    </tr>\n",
       "  </tbody>\n",
       "</table>\n",
       "<p>562 rows × 17 columns</p>\n",
       "</div>"
      ],
      "text/plain": [
       "       CONTRACT_NO  CUSTOMER_NO START_DATE DATE_OF_LOAN_MATURITY  PRODUCT  \\\n",
       "116          98035        99034 2019-02-18            2023-02-18        1   \n",
       "137         163005        89798 2019-07-09            2022-09-07        1   \n",
       "164         207513       208512 2019-07-12            2023-12-07        1   \n",
       "262         166341        50293 2019-07-09            2023-09-07        1   \n",
       "311          10144        11143 2019-01-25            2023-01-25        1   \n",
       "...            ...          ...        ...                   ...      ...   \n",
       "29694       178743       111836 2019-03-28            2023-03-28        1   \n",
       "29863        28230        29229 2019-03-28            2023-03-28        1   \n",
       "29904        92085        93084 2019-04-09            2023-09-04        1   \n",
       "29932        95428        96427 2019-05-17            2023-05-17        1   \n",
       "29942        80348        81347 2019-02-05            2023-05-02        1   \n",
       "\n",
       "       tenure  INITIAL_AMOUNT  mobile_name  CUSTOMER_CITY  gender  Ministry  \\\n",
       "116      48.0         12700.0            2             60       0         1   \n",
       "137      36.0         19000.0            7             58       1         6   \n",
       "164      48.0         13000.0           11              8       1         5   \n",
       "262      48.0         12600.0            9             49       0         4   \n",
       "311      48.0         11550.0            9             72       1         0   \n",
       "...       ...             ...          ...            ...     ...       ...   \n",
       "29694    48.0         14200.0            7             22       1         4   \n",
       "29863    48.0         20000.0            9              8       1        10   \n",
       "29904    48.0         20000.0           12              8       1        10   \n",
       "29932    48.0         20000.0            2             63       0         2   \n",
       "29942    48.0         14460.0            7             30       1         6   \n",
       "\n",
       "       Position  Avg_salary        age  Region_Location  Loan_location_group  \\\n",
       "116          12     1018.00  22.798552                0                    2   \n",
       "137           2     1577.39  26.502940                9                    1   \n",
       "164           6     1410.00  40.931710                2                    0   \n",
       "262          11      910.00  59.478292                0                    0   \n",
       "311           6      796.49  52.803275                1                    1   \n",
       "...         ...         ...        ...              ...                  ...   \n",
       "29694        11     1225.47  46.801782                4                    4   \n",
       "29863         6     1394.09  49.109838                2                    2   \n",
       "29904         7     1545.73  36.685216                2                    2   \n",
       "29932         0     1644.63  28.197704                2                    1   \n",
       "29942         9      744.13  30.177211                8                    8   \n",
       "\n",
       "       Bad Flag  \n",
       "116           0  \n",
       "137           0  \n",
       "164           0  \n",
       "262           1  \n",
       "311           0  \n",
       "...         ...  \n",
       "29694         0  \n",
       "29863         0  \n",
       "29904         0  \n",
       "29932         0  \n",
       "29942         0  \n",
       "\n",
       "[562 rows x 17 columns]"
      ]
     },
     "execution_count": 22,
     "metadata": {},
     "output_type": "execute_result"
    }
   ],
   "source": [
    "df_le[(df_le['INITIAL_AMOUNT'] > INITIAL_AMOUNT_upper) | (df_le['INITIAL_AMOUNT'] < INITIAL_AMOUNT_lower) |\n",
    "      (df_le['Avg_salary'] > Avg_salary_upper) | (df_le['Avg_salary'] < Avg_salary_lower)]"
   ]
  },
  {
   "cell_type": "markdown",
   "id": "da0aa23d",
   "metadata": {},
   "source": [
    "<b>So, 562 rows out of 30,000 are outliers which need to be capped.</b>"
   ]
  },
  {
   "cell_type": "code",
   "execution_count": 23,
   "id": "d28b041d",
   "metadata": {},
   "outputs": [],
   "source": [
    "df_le['INITIAL_AMOUNT'] = np.where(\n",
    "    df_le['INITIAL_AMOUNT'] > INITIAL_AMOUNT_upper,\n",
    "    INITIAL_AMOUNT_upper,\n",
    "    np.where(\n",
    "        df_le['INITIAL_AMOUNT'] < INITIAL_AMOUNT_lower,\n",
    "        INITIAL_AMOUNT_lower,\n",
    "        df_le['INITIAL_AMOUNT']\n",
    "    )\n",
    ")\n",
    "\n",
    "df_le['Avg_salary'] = np.where(\n",
    "    df_le['Avg_salary'] > Avg_salary_upper,\n",
    "    Avg_salary_upper,\n",
    "    np.where(\n",
    "        df_le['Avg_salary'] < Avg_salary_lower,\n",
    "        Avg_salary_lower,\n",
    "        df_le['Avg_salary']\n",
    "    )\n",
    ")"
   ]
  },
  {
   "cell_type": "markdown",
   "id": "62a7bf5d",
   "metadata": {},
   "source": [
    "<b>Here, we made values that are greater than upper limit equal to upper limit.<\\b>"
   ]
  },
  {
   "cell_type": "code",
   "execution_count": 24,
   "id": "76ffdc15",
   "metadata": {},
   "outputs": [
    {
     "data": {
      "text/plain": [
       "count    30000.000000\n",
       "mean      3301.456559\n",
       "std       2472.276459\n",
       "min        310.000000\n",
       "25%       1500.000000\n",
       "50%       2600.000000\n",
       "75%       4200.000000\n",
       "max      11403.010755\n",
       "Name: INITIAL_AMOUNT, dtype: float64"
      ]
     },
     "execution_count": 24,
     "metadata": {},
     "output_type": "execute_result"
    }
   ],
   "source": [
    "df_le['INITIAL_AMOUNT'].describe()"
   ]
  },
  {
   "cell_type": "code",
   "execution_count": 25,
   "id": "53495e7d",
   "metadata": {},
   "outputs": [
    {
     "data": {
      "text/plain": [
       "count    30000.000000\n",
       "mean       553.059730\n",
       "std        406.436888\n",
       "min         69.000000\n",
       "25%        278.750000\n",
       "50%        444.905000\n",
       "75%        671.500000\n",
       "max       3650.287308\n",
       "Name: Avg_salary, dtype: float64"
      ]
     },
     "execution_count": 25,
     "metadata": {},
     "output_type": "execute_result"
    }
   ],
   "source": [
    "df_le['Avg_salary'].describe()"
   ]
  },
  {
   "cell_type": "markdown",
   "id": "35300386",
   "metadata": {},
   "source": [
    "# 4 Feature Transformation and Scaling"
   ]
  },
  {
   "cell_type": "markdown",
   "id": "2c5216b7",
   "metadata": {},
   "source": [
    "### Standard Scaler"
   ]
  },
  {
   "cell_type": "code",
   "execution_count": 26,
   "id": "0f5325df",
   "metadata": {},
   "outputs": [
    {
     "data": {
      "text/html": [
       "<div>\n",
       "<style scoped>\n",
       "    .dataframe tbody tr th:only-of-type {\n",
       "        vertical-align: middle;\n",
       "    }\n",
       "\n",
       "    .dataframe tbody tr th {\n",
       "        vertical-align: top;\n",
       "    }\n",
       "\n",
       "    .dataframe thead th {\n",
       "        text-align: right;\n",
       "    }\n",
       "</style>\n",
       "<table border=\"1\" class=\"dataframe\">\n",
       "  <thead>\n",
       "    <tr style=\"text-align: right;\">\n",
       "      <th></th>\n",
       "      <th>CONTRACT_NO</th>\n",
       "      <th>CUSTOMER_NO</th>\n",
       "      <th>START_DATE</th>\n",
       "      <th>DATE_OF_LOAN_MATURITY</th>\n",
       "      <th>PRODUCT</th>\n",
       "      <th>tenure</th>\n",
       "      <th>INITIAL_AMOUNT</th>\n",
       "      <th>mobile_name</th>\n",
       "      <th>CUSTOMER_CITY</th>\n",
       "      <th>gender</th>\n",
       "      <th>Ministry</th>\n",
       "      <th>Position</th>\n",
       "      <th>Avg_salary</th>\n",
       "      <th>age</th>\n",
       "      <th>Region_Location</th>\n",
       "      <th>Loan_location_group</th>\n",
       "      <th>Bad Flag</th>\n",
       "    </tr>\n",
       "  </thead>\n",
       "  <tbody>\n",
       "    <tr>\n",
       "      <th>0</th>\n",
       "      <td>25103</td>\n",
       "      <td>26102</td>\n",
       "      <td>2019-02-18</td>\n",
       "      <td>2024-10-01</td>\n",
       "      <td>0</td>\n",
       "      <td>1.107743</td>\n",
       "      <td>1.253337</td>\n",
       "      <td>2</td>\n",
       "      <td>11</td>\n",
       "      <td>1</td>\n",
       "      <td>7</td>\n",
       "      <td>9</td>\n",
       "      <td>1.280614</td>\n",
       "      <td>1.517691e+00</td>\n",
       "      <td>1</td>\n",
       "      <td>1</td>\n",
       "      <td>0</td>\n",
       "    </tr>\n",
       "    <tr>\n",
       "      <th>1</th>\n",
       "      <td>178508</td>\n",
       "      <td>179507</td>\n",
       "      <td>2019-08-09</td>\n",
       "      <td>2022-09-08</td>\n",
       "      <td>1</td>\n",
       "      <td>-0.327196</td>\n",
       "      <td>-0.344408</td>\n",
       "      <td>9</td>\n",
       "      <td>30</td>\n",
       "      <td>1</td>\n",
       "      <td>4</td>\n",
       "      <td>11</td>\n",
       "      <td>-0.376989</td>\n",
       "      <td>-4.042881e-01</td>\n",
       "      <td>5</td>\n",
       "      <td>5</td>\n",
       "      <td>0</td>\n",
       "    </tr>\n",
       "    <tr>\n",
       "      <th>2</th>\n",
       "      <td>44173</td>\n",
       "      <td>45172</td>\n",
       "      <td>2019-08-14</td>\n",
       "      <td>2024-10-07</td>\n",
       "      <td>0</td>\n",
       "      <td>1.107743</td>\n",
       "      <td>-0.445531</td>\n",
       "      <td>11</td>\n",
       "      <td>8</td>\n",
       "      <td>1</td>\n",
       "      <td>5</td>\n",
       "      <td>9</td>\n",
       "      <td>1.259455</td>\n",
       "      <td>-3.148105e-01</td>\n",
       "      <td>2</td>\n",
       "      <td>2</td>\n",
       "      <td>0</td>\n",
       "    </tr>\n",
       "    <tr>\n",
       "      <th>3</th>\n",
       "      <td>110572</td>\n",
       "      <td>111571</td>\n",
       "      <td>2019-06-25</td>\n",
       "      <td>2022-06-25</td>\n",
       "      <td>1</td>\n",
       "      <td>-0.327196</td>\n",
       "      <td>1.900524</td>\n",
       "      <td>2</td>\n",
       "      <td>8</td>\n",
       "      <td>0</td>\n",
       "      <td>2</td>\n",
       "      <td>9</td>\n",
       "      <td>1.695101</td>\n",
       "      <td>-1.361579e+00</td>\n",
       "      <td>2</td>\n",
       "      <td>2</td>\n",
       "      <td>0</td>\n",
       "    </tr>\n",
       "    <tr>\n",
       "      <th>4</th>\n",
       "      <td>44085</td>\n",
       "      <td>45084</td>\n",
       "      <td>2019-06-13</td>\n",
       "      <td>2023-06-13</td>\n",
       "      <td>1</td>\n",
       "      <td>0.390273</td>\n",
       "      <td>1.496032</td>\n",
       "      <td>11</td>\n",
       "      <td>46</td>\n",
       "      <td>1</td>\n",
       "      <td>0</td>\n",
       "      <td>0</td>\n",
       "      <td>-0.461653</td>\n",
       "      <td>-8.347352e-01</td>\n",
       "      <td>1</td>\n",
       "      <td>1</td>\n",
       "      <td>0</td>\n",
       "    </tr>\n",
       "    <tr>\n",
       "      <th>...</th>\n",
       "      <td>...</td>\n",
       "      <td>...</td>\n",
       "      <td>...</td>\n",
       "      <td>...</td>\n",
       "      <td>...</td>\n",
       "      <td>...</td>\n",
       "      <td>...</td>\n",
       "      <td>...</td>\n",
       "      <td>...</td>\n",
       "      <td>...</td>\n",
       "      <td>...</td>\n",
       "      <td>...</td>\n",
       "      <td>...</td>\n",
       "      <td>...</td>\n",
       "      <td>...</td>\n",
       "      <td>...</td>\n",
       "      <td>...</td>\n",
       "    </tr>\n",
       "    <tr>\n",
       "      <th>29995</th>\n",
       "      <td>33007</td>\n",
       "      <td>12564</td>\n",
       "      <td>2019-12-18</td>\n",
       "      <td>2022-12-18</td>\n",
       "      <td>1</td>\n",
       "      <td>-0.327196</td>\n",
       "      <td>-0.477890</td>\n",
       "      <td>11</td>\n",
       "      <td>1</td>\n",
       "      <td>0</td>\n",
       "      <td>0</td>\n",
       "      <td>12</td>\n",
       "      <td>-0.851462</td>\n",
       "      <td>-1.675899e-01</td>\n",
       "      <td>5</td>\n",
       "      <td>5</td>\n",
       "      <td>0</td>\n",
       "    </tr>\n",
       "    <tr>\n",
       "      <th>29996</th>\n",
       "      <td>173631</td>\n",
       "      <td>174630</td>\n",
       "      <td>2019-09-16</td>\n",
       "      <td>2023-09-16</td>\n",
       "      <td>1</td>\n",
       "      <td>0.390273</td>\n",
       "      <td>0.019635</td>\n",
       "      <td>11</td>\n",
       "      <td>52</td>\n",
       "      <td>0</td>\n",
       "      <td>10</td>\n",
       "      <td>12</td>\n",
       "      <td>-0.713062</td>\n",
       "      <td>3.529633e-14</td>\n",
       "      <td>9</td>\n",
       "      <td>2</td>\n",
       "      <td>0</td>\n",
       "    </tr>\n",
       "    <tr>\n",
       "      <th>29997</th>\n",
       "      <td>61236</td>\n",
       "      <td>62235</td>\n",
       "      <td>2019-07-17</td>\n",
       "      <td>2022-07-17</td>\n",
       "      <td>1</td>\n",
       "      <td>-0.327196</td>\n",
       "      <td>-0.388902</td>\n",
       "      <td>9</td>\n",
       "      <td>66</td>\n",
       "      <td>1</td>\n",
       "      <td>9</td>\n",
       "      <td>12</td>\n",
       "      <td>-0.730900</td>\n",
       "      <td>-4.343526e-01</td>\n",
       "      <td>1</td>\n",
       "      <td>1</td>\n",
       "      <td>0</td>\n",
       "    </tr>\n",
       "    <tr>\n",
       "      <th>29998</th>\n",
       "      <td>209538</td>\n",
       "      <td>210537</td>\n",
       "      <td>2019-01-23</td>\n",
       "      <td>2020-01-23</td>\n",
       "      <td>1</td>\n",
       "      <td>-1.762135</td>\n",
       "      <td>-0.223060</td>\n",
       "      <td>11</td>\n",
       "      <td>75</td>\n",
       "      <td>1</td>\n",
       "      <td>6</td>\n",
       "      <td>2</td>\n",
       "      <td>0.313634</td>\n",
       "      <td>-7.599394e-01</td>\n",
       "      <td>4</td>\n",
       "      <td>4</td>\n",
       "      <td>0</td>\n",
       "    </tr>\n",
       "    <tr>\n",
       "      <th>29999</th>\n",
       "      <td>66028</td>\n",
       "      <td>36204</td>\n",
       "      <td>2019-01-14</td>\n",
       "      <td>2021-01-14</td>\n",
       "      <td>1</td>\n",
       "      <td>-1.044666</td>\n",
       "      <td>-0.987550</td>\n",
       "      <td>9</td>\n",
       "      <td>45</td>\n",
       "      <td>1</td>\n",
       "      <td>9</td>\n",
       "      <td>12</td>\n",
       "      <td>-0.659276</td>\n",
       "      <td>8.204817e-01</td>\n",
       "      <td>1</td>\n",
       "      <td>1</td>\n",
       "      <td>0</td>\n",
       "    </tr>\n",
       "  </tbody>\n",
       "</table>\n",
       "<p>30000 rows × 17 columns</p>\n",
       "</div>"
      ],
      "text/plain": [
       "       CONTRACT_NO  CUSTOMER_NO START_DATE DATE_OF_LOAN_MATURITY  PRODUCT  \\\n",
       "0            25103        26102 2019-02-18            2024-10-01        0   \n",
       "1           178508       179507 2019-08-09            2022-09-08        1   \n",
       "2            44173        45172 2019-08-14            2024-10-07        0   \n",
       "3           110572       111571 2019-06-25            2022-06-25        1   \n",
       "4            44085        45084 2019-06-13            2023-06-13        1   \n",
       "...            ...          ...        ...                   ...      ...   \n",
       "29995        33007        12564 2019-12-18            2022-12-18        1   \n",
       "29996       173631       174630 2019-09-16            2023-09-16        1   \n",
       "29997        61236        62235 2019-07-17            2022-07-17        1   \n",
       "29998       209538       210537 2019-01-23            2020-01-23        1   \n",
       "29999        66028        36204 2019-01-14            2021-01-14        1   \n",
       "\n",
       "         tenure  INITIAL_AMOUNT  mobile_name  CUSTOMER_CITY  gender  Ministry  \\\n",
       "0      1.107743        1.253337            2             11       1         7   \n",
       "1     -0.327196       -0.344408            9             30       1         4   \n",
       "2      1.107743       -0.445531           11              8       1         5   \n",
       "3     -0.327196        1.900524            2              8       0         2   \n",
       "4      0.390273        1.496032           11             46       1         0   \n",
       "...         ...             ...          ...            ...     ...       ...   \n",
       "29995 -0.327196       -0.477890           11              1       0         0   \n",
       "29996  0.390273        0.019635           11             52       0        10   \n",
       "29997 -0.327196       -0.388902            9             66       1         9   \n",
       "29998 -1.762135       -0.223060           11             75       1         6   \n",
       "29999 -1.044666       -0.987550            9             45       1         9   \n",
       "\n",
       "       Position  Avg_salary           age  Region_Location  \\\n",
       "0             9    1.280614  1.517691e+00                1   \n",
       "1            11   -0.376989 -4.042881e-01                5   \n",
       "2             9    1.259455 -3.148105e-01                2   \n",
       "3             9    1.695101 -1.361579e+00                2   \n",
       "4             0   -0.461653 -8.347352e-01                1   \n",
       "...         ...         ...           ...              ...   \n",
       "29995        12   -0.851462 -1.675899e-01                5   \n",
       "29996        12   -0.713062  3.529633e-14                9   \n",
       "29997        12   -0.730900 -4.343526e-01                1   \n",
       "29998         2    0.313634 -7.599394e-01                4   \n",
       "29999        12   -0.659276  8.204817e-01                1   \n",
       "\n",
       "       Loan_location_group  Bad Flag  \n",
       "0                        1         0  \n",
       "1                        5         0  \n",
       "2                        2         0  \n",
       "3                        2         0  \n",
       "4                        1         0  \n",
       "...                    ...       ...  \n",
       "29995                    5         0  \n",
       "29996                    2         0  \n",
       "29997                    1         0  \n",
       "29998                    4         0  \n",
       "29999                    1         0  \n",
       "\n",
       "[30000 rows x 17 columns]"
      ]
     },
     "execution_count": 26,
     "metadata": {},
     "output_type": "execute_result"
    }
   ],
   "source": [
    "from sklearn.preprocessing import StandardScaler\n",
    "scaler = StandardScaler()\n",
    "\n",
    "df_scaled = df_le.copy()\n",
    "col_names = ['Income', 'Age']\n",
    "\n",
    "col_names = ['tenure', 'INITIAL_AMOUNT', 'Avg_salary', 'age']\n",
    "df_scaled[col_names] = scaler.fit_transform(df_scaled[col_names].values)\n",
    "df_scaled"
   ]
  },
  {
   "cell_type": "code",
   "execution_count": 27,
   "id": "15431a21",
   "metadata": {},
   "outputs": [
    {
     "data": {
      "text/html": [
       "<div>\n",
       "<style scoped>\n",
       "    .dataframe tbody tr th:only-of-type {\n",
       "        vertical-align: middle;\n",
       "    }\n",
       "\n",
       "    .dataframe tbody tr th {\n",
       "        vertical-align: top;\n",
       "    }\n",
       "\n",
       "    .dataframe thead th {\n",
       "        text-align: right;\n",
       "    }\n",
       "</style>\n",
       "<table border=\"1\" class=\"dataframe\">\n",
       "  <thead>\n",
       "    <tr style=\"text-align: right;\">\n",
       "      <th></th>\n",
       "      <th>tenure</th>\n",
       "      <th>INITIAL_AMOUNT</th>\n",
       "      <th>Avg_salary</th>\n",
       "      <th>age</th>\n",
       "    </tr>\n",
       "  </thead>\n",
       "  <tbody>\n",
       "    <tr>\n",
       "      <th>count</th>\n",
       "      <td>3.000000e+04</td>\n",
       "      <td>3.000000e+04</td>\n",
       "      <td>3.000000e+04</td>\n",
       "      <td>3.000000e+04</td>\n",
       "    </tr>\n",
       "    <tr>\n",
       "      <th>mean</th>\n",
       "      <td>2.677636e-16</td>\n",
       "      <td>-6.284973e-17</td>\n",
       "      <td>1.764588e-16</td>\n",
       "      <td>-2.530864e-16</td>\n",
       "    </tr>\n",
       "    <tr>\n",
       "      <th>std</th>\n",
       "      <td>1.000017e+00</td>\n",
       "      <td>1.000017e+00</td>\n",
       "      <td>1.000017e+00</td>\n",
       "      <td>1.000017e+00</td>\n",
       "    </tr>\n",
       "    <tr>\n",
       "      <th>min</th>\n",
       "      <td>-2.479605e+00</td>\n",
       "      <td>-1.210021e+00</td>\n",
       "      <td>-1.191004e+00</td>\n",
       "      <td>-1.878164e+00</td>\n",
       "    </tr>\n",
       "    <tr>\n",
       "      <th>25%</th>\n",
       "      <td>-3.271961e-01</td>\n",
       "      <td>-7.286752e-01</td>\n",
       "      <td>-6.749247e-01</td>\n",
       "      <td>-8.347352e-01</td>\n",
       "    </tr>\n",
       "    <tr>\n",
       "      <th>50%</th>\n",
       "      <td>-3.271961e-01</td>\n",
       "      <td>-2.837337e-01</td>\n",
       "      <td>-2.661090e-01</td>\n",
       "      <td>-1.438485e-01</td>\n",
       "    </tr>\n",
       "    <tr>\n",
       "      <th>75%</th>\n",
       "      <td>1.107743e+00</td>\n",
       "      <td>3.634539e-01</td>\n",
       "      <td>2.914161e-01</td>\n",
       "      <td>8.178571e-01</td>\n",
       "    </tr>\n",
       "    <tr>\n",
       "      <th>max</th>\n",
       "      <td>1.107743e+00</td>\n",
       "      <td>3.277016e+00</td>\n",
       "      <td>7.620566e+00</td>\n",
       "      <td>2.547042e+00</td>\n",
       "    </tr>\n",
       "  </tbody>\n",
       "</table>\n",
       "</div>"
      ],
      "text/plain": [
       "             tenure  INITIAL_AMOUNT    Avg_salary           age\n",
       "count  3.000000e+04    3.000000e+04  3.000000e+04  3.000000e+04\n",
       "mean   2.677636e-16   -6.284973e-17  1.764588e-16 -2.530864e-16\n",
       "std    1.000017e+00    1.000017e+00  1.000017e+00  1.000017e+00\n",
       "min   -2.479605e+00   -1.210021e+00 -1.191004e+00 -1.878164e+00\n",
       "25%   -3.271961e-01   -7.286752e-01 -6.749247e-01 -8.347352e-01\n",
       "50%   -3.271961e-01   -2.837337e-01 -2.661090e-01 -1.438485e-01\n",
       "75%    1.107743e+00    3.634539e-01  2.914161e-01  8.178571e-01\n",
       "max    1.107743e+00    3.277016e+00  7.620566e+00  2.547042e+00"
      ]
     },
     "execution_count": 27,
     "metadata": {},
     "output_type": "execute_result"
    }
   ],
   "source": [
    "df_scaled.describe()[col_names]"
   ]
  },
  {
   "cell_type": "markdown",
   "id": "1176af4a",
   "metadata": {},
   "source": [
    "<b>Standard Scaler makes values mean 0 and standard deviation 1. If we check our 4 features which are scaled, it is seen that although mean and standard deviation is not exactly equal to 0 an 1, but there are very close.</b>"
   ]
  },
  {
   "cell_type": "markdown",
   "id": "aeb5d816",
   "metadata": {},
   "source": [
    "# 5 Feature Extraction"
   ]
  },
  {
   "cell_type": "markdown",
   "id": "dfa695f0",
   "metadata": {},
   "source": [
    "<b>First of all, we don't need columns \"CONTRACT_NO\" and \"CUSTOMER_NO\" as they have no contribution to generalization. We will drop those 2 columns. Secondly, rather than having loan start and end they, it is better to use 1 feature representing duration of loan in format of days.</b>"
   ]
  },
  {
   "cell_type": "code",
   "execution_count": 28,
   "id": "3fb98deb",
   "metadata": {},
   "outputs": [
    {
     "data": {
      "text/html": [
       "<div>\n",
       "<style scoped>\n",
       "    .dataframe tbody tr th:only-of-type {\n",
       "        vertical-align: middle;\n",
       "    }\n",
       "\n",
       "    .dataframe tbody tr th {\n",
       "        vertical-align: top;\n",
       "    }\n",
       "\n",
       "    .dataframe thead th {\n",
       "        text-align: right;\n",
       "    }\n",
       "</style>\n",
       "<table border=\"1\" class=\"dataframe\">\n",
       "  <thead>\n",
       "    <tr style=\"text-align: right;\">\n",
       "      <th></th>\n",
       "      <th>LOAN_DURATION_DAYS</th>\n",
       "      <th>PRODUCT</th>\n",
       "      <th>tenure</th>\n",
       "      <th>INITIAL_AMOUNT</th>\n",
       "      <th>mobile_name</th>\n",
       "      <th>CUSTOMER_CITY</th>\n",
       "      <th>gender</th>\n",
       "      <th>Ministry</th>\n",
       "      <th>Position</th>\n",
       "      <th>Avg_salary</th>\n",
       "      <th>age</th>\n",
       "      <th>Region_Location</th>\n",
       "      <th>Loan_location_group</th>\n",
       "      <th>Bad Flag</th>\n",
       "    </tr>\n",
       "  </thead>\n",
       "  <tbody>\n",
       "    <tr>\n",
       "      <th>0</th>\n",
       "      <td>2052.0</td>\n",
       "      <td>0</td>\n",
       "      <td>1.107743</td>\n",
       "      <td>1.253337</td>\n",
       "      <td>2</td>\n",
       "      <td>11</td>\n",
       "      <td>1</td>\n",
       "      <td>7</td>\n",
       "      <td>9</td>\n",
       "      <td>1.280614</td>\n",
       "      <td>1.517691e+00</td>\n",
       "      <td>1</td>\n",
       "      <td>1</td>\n",
       "      <td>0</td>\n",
       "    </tr>\n",
       "    <tr>\n",
       "      <th>1</th>\n",
       "      <td>1126.0</td>\n",
       "      <td>1</td>\n",
       "      <td>-0.327196</td>\n",
       "      <td>-0.344408</td>\n",
       "      <td>9</td>\n",
       "      <td>30</td>\n",
       "      <td>1</td>\n",
       "      <td>4</td>\n",
       "      <td>11</td>\n",
       "      <td>-0.376989</td>\n",
       "      <td>-4.042881e-01</td>\n",
       "      <td>5</td>\n",
       "      <td>5</td>\n",
       "      <td>0</td>\n",
       "    </tr>\n",
       "    <tr>\n",
       "      <th>2</th>\n",
       "      <td>1881.0</td>\n",
       "      <td>0</td>\n",
       "      <td>1.107743</td>\n",
       "      <td>-0.445531</td>\n",
       "      <td>11</td>\n",
       "      <td>8</td>\n",
       "      <td>1</td>\n",
       "      <td>5</td>\n",
       "      <td>9</td>\n",
       "      <td>1.259455</td>\n",
       "      <td>-3.148105e-01</td>\n",
       "      <td>2</td>\n",
       "      <td>2</td>\n",
       "      <td>0</td>\n",
       "    </tr>\n",
       "    <tr>\n",
       "      <th>3</th>\n",
       "      <td>1096.0</td>\n",
       "      <td>1</td>\n",
       "      <td>-0.327196</td>\n",
       "      <td>1.900524</td>\n",
       "      <td>2</td>\n",
       "      <td>8</td>\n",
       "      <td>0</td>\n",
       "      <td>2</td>\n",
       "      <td>9</td>\n",
       "      <td>1.695101</td>\n",
       "      <td>-1.361579e+00</td>\n",
       "      <td>2</td>\n",
       "      <td>2</td>\n",
       "      <td>0</td>\n",
       "    </tr>\n",
       "    <tr>\n",
       "      <th>4</th>\n",
       "      <td>1461.0</td>\n",
       "      <td>1</td>\n",
       "      <td>0.390273</td>\n",
       "      <td>1.496032</td>\n",
       "      <td>11</td>\n",
       "      <td>46</td>\n",
       "      <td>1</td>\n",
       "      <td>0</td>\n",
       "      <td>0</td>\n",
       "      <td>-0.461653</td>\n",
       "      <td>-8.347352e-01</td>\n",
       "      <td>1</td>\n",
       "      <td>1</td>\n",
       "      <td>0</td>\n",
       "    </tr>\n",
       "    <tr>\n",
       "      <th>...</th>\n",
       "      <td>...</td>\n",
       "      <td>...</td>\n",
       "      <td>...</td>\n",
       "      <td>...</td>\n",
       "      <td>...</td>\n",
       "      <td>...</td>\n",
       "      <td>...</td>\n",
       "      <td>...</td>\n",
       "      <td>...</td>\n",
       "      <td>...</td>\n",
       "      <td>...</td>\n",
       "      <td>...</td>\n",
       "      <td>...</td>\n",
       "      <td>...</td>\n",
       "    </tr>\n",
       "    <tr>\n",
       "      <th>29995</th>\n",
       "      <td>1096.0</td>\n",
       "      <td>1</td>\n",
       "      <td>-0.327196</td>\n",
       "      <td>-0.477890</td>\n",
       "      <td>11</td>\n",
       "      <td>1</td>\n",
       "      <td>0</td>\n",
       "      <td>0</td>\n",
       "      <td>12</td>\n",
       "      <td>-0.851462</td>\n",
       "      <td>-1.675899e-01</td>\n",
       "      <td>5</td>\n",
       "      <td>5</td>\n",
       "      <td>0</td>\n",
       "    </tr>\n",
       "    <tr>\n",
       "      <th>29996</th>\n",
       "      <td>1461.0</td>\n",
       "      <td>1</td>\n",
       "      <td>0.390273</td>\n",
       "      <td>0.019635</td>\n",
       "      <td>11</td>\n",
       "      <td>52</td>\n",
       "      <td>0</td>\n",
       "      <td>10</td>\n",
       "      <td>12</td>\n",
       "      <td>-0.713062</td>\n",
       "      <td>3.529633e-14</td>\n",
       "      <td>9</td>\n",
       "      <td>2</td>\n",
       "      <td>0</td>\n",
       "    </tr>\n",
       "    <tr>\n",
       "      <th>29997</th>\n",
       "      <td>1096.0</td>\n",
       "      <td>1</td>\n",
       "      <td>-0.327196</td>\n",
       "      <td>-0.388902</td>\n",
       "      <td>9</td>\n",
       "      <td>66</td>\n",
       "      <td>1</td>\n",
       "      <td>9</td>\n",
       "      <td>12</td>\n",
       "      <td>-0.730900</td>\n",
       "      <td>-4.343526e-01</td>\n",
       "      <td>1</td>\n",
       "      <td>1</td>\n",
       "      <td>0</td>\n",
       "    </tr>\n",
       "    <tr>\n",
       "      <th>29998</th>\n",
       "      <td>365.0</td>\n",
       "      <td>1</td>\n",
       "      <td>-1.762135</td>\n",
       "      <td>-0.223060</td>\n",
       "      <td>11</td>\n",
       "      <td>75</td>\n",
       "      <td>1</td>\n",
       "      <td>6</td>\n",
       "      <td>2</td>\n",
       "      <td>0.313634</td>\n",
       "      <td>-7.599394e-01</td>\n",
       "      <td>4</td>\n",
       "      <td>4</td>\n",
       "      <td>0</td>\n",
       "    </tr>\n",
       "    <tr>\n",
       "      <th>29999</th>\n",
       "      <td>731.0</td>\n",
       "      <td>1</td>\n",
       "      <td>-1.044666</td>\n",
       "      <td>-0.987550</td>\n",
       "      <td>9</td>\n",
       "      <td>45</td>\n",
       "      <td>1</td>\n",
       "      <td>9</td>\n",
       "      <td>12</td>\n",
       "      <td>-0.659276</td>\n",
       "      <td>8.204817e-01</td>\n",
       "      <td>1</td>\n",
       "      <td>1</td>\n",
       "      <td>0</td>\n",
       "    </tr>\n",
       "  </tbody>\n",
       "</table>\n",
       "<p>30000 rows × 14 columns</p>\n",
       "</div>"
      ],
      "text/plain": [
       "       LOAN_DURATION_DAYS  PRODUCT    tenure  INITIAL_AMOUNT  mobile_name  \\\n",
       "0                  2052.0        0  1.107743        1.253337            2   \n",
       "1                  1126.0        1 -0.327196       -0.344408            9   \n",
       "2                  1881.0        0  1.107743       -0.445531           11   \n",
       "3                  1096.0        1 -0.327196        1.900524            2   \n",
       "4                  1461.0        1  0.390273        1.496032           11   \n",
       "...                   ...      ...       ...             ...          ...   \n",
       "29995              1096.0        1 -0.327196       -0.477890           11   \n",
       "29996              1461.0        1  0.390273        0.019635           11   \n",
       "29997              1096.0        1 -0.327196       -0.388902            9   \n",
       "29998               365.0        1 -1.762135       -0.223060           11   \n",
       "29999               731.0        1 -1.044666       -0.987550            9   \n",
       "\n",
       "       CUSTOMER_CITY  gender  Ministry  Position  Avg_salary           age  \\\n",
       "0                 11       1         7         9    1.280614  1.517691e+00   \n",
       "1                 30       1         4        11   -0.376989 -4.042881e-01   \n",
       "2                  8       1         5         9    1.259455 -3.148105e-01   \n",
       "3                  8       0         2         9    1.695101 -1.361579e+00   \n",
       "4                 46       1         0         0   -0.461653 -8.347352e-01   \n",
       "...              ...     ...       ...       ...         ...           ...   \n",
       "29995              1       0         0        12   -0.851462 -1.675899e-01   \n",
       "29996             52       0        10        12   -0.713062  3.529633e-14   \n",
       "29997             66       1         9        12   -0.730900 -4.343526e-01   \n",
       "29998             75       1         6         2    0.313634 -7.599394e-01   \n",
       "29999             45       1         9        12   -0.659276  8.204817e-01   \n",
       "\n",
       "       Region_Location  Loan_location_group  Bad Flag  \n",
       "0                    1                    1         0  \n",
       "1                    5                    5         0  \n",
       "2                    2                    2         0  \n",
       "3                    2                    2         0  \n",
       "4                    1                    1         0  \n",
       "...                ...                  ...       ...  \n",
       "29995                5                    5         0  \n",
       "29996                9                    2         0  \n",
       "29997                1                    1         0  \n",
       "29998                4                    4         0  \n",
       "29999                1                    1         0  \n",
       "\n",
       "[30000 rows x 14 columns]"
      ]
     },
     "execution_count": 28,
     "metadata": {},
     "output_type": "execute_result"
    }
   ],
   "source": [
    "loan_duration = pd.to_timedelta(df_scaled['DATE_OF_LOAN_MATURITY'] - df_scaled['START_DATE']).astype('timedelta64[D]')\n",
    "df_ext = df_scaled[df.columns[4:]]\n",
    "df_ext.insert(loc = 0, column = 'LOAN_DURATION_DAYS', value = loan_duration)\n",
    "df_ext"
   ]
  },
  {
   "cell_type": "markdown",
   "id": "26534531",
   "metadata": {},
   "source": [
    "<b>We also need to scale that new column.</b>"
   ]
  },
  {
   "cell_type": "code",
   "execution_count": 29,
   "id": "4a3139a7",
   "metadata": {},
   "outputs": [
    {
     "data": {
      "text/html": [
       "<div>\n",
       "<style scoped>\n",
       "    .dataframe tbody tr th:only-of-type {\n",
       "        vertical-align: middle;\n",
       "    }\n",
       "\n",
       "    .dataframe tbody tr th {\n",
       "        vertical-align: top;\n",
       "    }\n",
       "\n",
       "    .dataframe thead th {\n",
       "        text-align: right;\n",
       "    }\n",
       "</style>\n",
       "<table border=\"1\" class=\"dataframe\">\n",
       "  <thead>\n",
       "    <tr style=\"text-align: right;\">\n",
       "      <th></th>\n",
       "      <th>LOAN_DURATION_DAYS</th>\n",
       "      <th>PRODUCT</th>\n",
       "      <th>tenure</th>\n",
       "      <th>INITIAL_AMOUNT</th>\n",
       "      <th>mobile_name</th>\n",
       "      <th>CUSTOMER_CITY</th>\n",
       "      <th>gender</th>\n",
       "      <th>Ministry</th>\n",
       "      <th>Position</th>\n",
       "      <th>Avg_salary</th>\n",
       "      <th>age</th>\n",
       "      <th>Region_Location</th>\n",
       "      <th>Loan_location_group</th>\n",
       "      <th>Bad Flag</th>\n",
       "    </tr>\n",
       "  </thead>\n",
       "  <tbody>\n",
       "    <tr>\n",
       "      <th>0</th>\n",
       "      <td>1.476703</td>\n",
       "      <td>0</td>\n",
       "      <td>1.107743</td>\n",
       "      <td>1.253337</td>\n",
       "      <td>2</td>\n",
       "      <td>11</td>\n",
       "      <td>1</td>\n",
       "      <td>7</td>\n",
       "      <td>9</td>\n",
       "      <td>1.280614</td>\n",
       "      <td>1.517691e+00</td>\n",
       "      <td>1</td>\n",
       "      <td>1</td>\n",
       "      <td>0</td>\n",
       "    </tr>\n",
       "    <tr>\n",
       "      <th>1</th>\n",
       "      <td>-0.270960</td>\n",
       "      <td>1</td>\n",
       "      <td>-0.327196</td>\n",
       "      <td>-0.344408</td>\n",
       "      <td>9</td>\n",
       "      <td>30</td>\n",
       "      <td>1</td>\n",
       "      <td>4</td>\n",
       "      <td>11</td>\n",
       "      <td>-0.376989</td>\n",
       "      <td>-4.042881e-01</td>\n",
       "      <td>5</td>\n",
       "      <td>5</td>\n",
       "      <td>0</td>\n",
       "    </tr>\n",
       "    <tr>\n",
       "      <th>2</th>\n",
       "      <td>1.153970</td>\n",
       "      <td>0</td>\n",
       "      <td>1.107743</td>\n",
       "      <td>-0.445531</td>\n",
       "      <td>11</td>\n",
       "      <td>8</td>\n",
       "      <td>1</td>\n",
       "      <td>5</td>\n",
       "      <td>9</td>\n",
       "      <td>1.259455</td>\n",
       "      <td>-3.148105e-01</td>\n",
       "      <td>2</td>\n",
       "      <td>2</td>\n",
       "      <td>0</td>\n",
       "    </tr>\n",
       "    <tr>\n",
       "      <th>3</th>\n",
       "      <td>-0.327579</td>\n",
       "      <td>1</td>\n",
       "      <td>-0.327196</td>\n",
       "      <td>1.900524</td>\n",
       "      <td>2</td>\n",
       "      <td>8</td>\n",
       "      <td>0</td>\n",
       "      <td>2</td>\n",
       "      <td>9</td>\n",
       "      <td>1.695101</td>\n",
       "      <td>-1.361579e+00</td>\n",
       "      <td>2</td>\n",
       "      <td>2</td>\n",
       "      <td>0</td>\n",
       "    </tr>\n",
       "    <tr>\n",
       "      <th>4</th>\n",
       "      <td>0.361294</td>\n",
       "      <td>1</td>\n",
       "      <td>0.390273</td>\n",
       "      <td>1.496032</td>\n",
       "      <td>11</td>\n",
       "      <td>46</td>\n",
       "      <td>1</td>\n",
       "      <td>0</td>\n",
       "      <td>0</td>\n",
       "      <td>-0.461653</td>\n",
       "      <td>-8.347352e-01</td>\n",
       "      <td>1</td>\n",
       "      <td>1</td>\n",
       "      <td>0</td>\n",
       "    </tr>\n",
       "    <tr>\n",
       "      <th>...</th>\n",
       "      <td>...</td>\n",
       "      <td>...</td>\n",
       "      <td>...</td>\n",
       "      <td>...</td>\n",
       "      <td>...</td>\n",
       "      <td>...</td>\n",
       "      <td>...</td>\n",
       "      <td>...</td>\n",
       "      <td>...</td>\n",
       "      <td>...</td>\n",
       "      <td>...</td>\n",
       "      <td>...</td>\n",
       "      <td>...</td>\n",
       "      <td>...</td>\n",
       "    </tr>\n",
       "    <tr>\n",
       "      <th>29995</th>\n",
       "      <td>-0.327579</td>\n",
       "      <td>1</td>\n",
       "      <td>-0.327196</td>\n",
       "      <td>-0.477890</td>\n",
       "      <td>11</td>\n",
       "      <td>1</td>\n",
       "      <td>0</td>\n",
       "      <td>0</td>\n",
       "      <td>12</td>\n",
       "      <td>-0.851462</td>\n",
       "      <td>-1.675899e-01</td>\n",
       "      <td>5</td>\n",
       "      <td>5</td>\n",
       "      <td>0</td>\n",
       "    </tr>\n",
       "    <tr>\n",
       "      <th>29996</th>\n",
       "      <td>0.361294</td>\n",
       "      <td>1</td>\n",
       "      <td>0.390273</td>\n",
       "      <td>0.019635</td>\n",
       "      <td>11</td>\n",
       "      <td>52</td>\n",
       "      <td>0</td>\n",
       "      <td>10</td>\n",
       "      <td>12</td>\n",
       "      <td>-0.713062</td>\n",
       "      <td>3.529633e-14</td>\n",
       "      <td>9</td>\n",
       "      <td>2</td>\n",
       "      <td>0</td>\n",
       "    </tr>\n",
       "    <tr>\n",
       "      <th>29997</th>\n",
       "      <td>-0.327579</td>\n",
       "      <td>1</td>\n",
       "      <td>-0.327196</td>\n",
       "      <td>-0.388902</td>\n",
       "      <td>9</td>\n",
       "      <td>66</td>\n",
       "      <td>1</td>\n",
       "      <td>9</td>\n",
       "      <td>12</td>\n",
       "      <td>-0.730900</td>\n",
       "      <td>-4.343526e-01</td>\n",
       "      <td>1</td>\n",
       "      <td>1</td>\n",
       "      <td>0</td>\n",
       "    </tr>\n",
       "    <tr>\n",
       "      <th>29998</th>\n",
       "      <td>-1.707214</td>\n",
       "      <td>1</td>\n",
       "      <td>-1.762135</td>\n",
       "      <td>-0.223060</td>\n",
       "      <td>11</td>\n",
       "      <td>75</td>\n",
       "      <td>1</td>\n",
       "      <td>6</td>\n",
       "      <td>2</td>\n",
       "      <td>0.313634</td>\n",
       "      <td>-7.599394e-01</td>\n",
       "      <td>4</td>\n",
       "      <td>4</td>\n",
       "      <td>0</td>\n",
       "    </tr>\n",
       "    <tr>\n",
       "      <th>29999</th>\n",
       "      <td>-1.016453</td>\n",
       "      <td>1</td>\n",
       "      <td>-1.044666</td>\n",
       "      <td>-0.987550</td>\n",
       "      <td>9</td>\n",
       "      <td>45</td>\n",
       "      <td>1</td>\n",
       "      <td>9</td>\n",
       "      <td>12</td>\n",
       "      <td>-0.659276</td>\n",
       "      <td>8.204817e-01</td>\n",
       "      <td>1</td>\n",
       "      <td>1</td>\n",
       "      <td>0</td>\n",
       "    </tr>\n",
       "  </tbody>\n",
       "</table>\n",
       "<p>30000 rows × 14 columns</p>\n",
       "</div>"
      ],
      "text/plain": [
       "       LOAN_DURATION_DAYS  PRODUCT    tenure  INITIAL_AMOUNT  mobile_name  \\\n",
       "0                1.476703        0  1.107743        1.253337            2   \n",
       "1               -0.270960        1 -0.327196       -0.344408            9   \n",
       "2                1.153970        0  1.107743       -0.445531           11   \n",
       "3               -0.327579        1 -0.327196        1.900524            2   \n",
       "4                0.361294        1  0.390273        1.496032           11   \n",
       "...                   ...      ...       ...             ...          ...   \n",
       "29995           -0.327579        1 -0.327196       -0.477890           11   \n",
       "29996            0.361294        1  0.390273        0.019635           11   \n",
       "29997           -0.327579        1 -0.327196       -0.388902            9   \n",
       "29998           -1.707214        1 -1.762135       -0.223060           11   \n",
       "29999           -1.016453        1 -1.044666       -0.987550            9   \n",
       "\n",
       "       CUSTOMER_CITY  gender  Ministry  Position  Avg_salary           age  \\\n",
       "0                 11       1         7         9    1.280614  1.517691e+00   \n",
       "1                 30       1         4        11   -0.376989 -4.042881e-01   \n",
       "2                  8       1         5         9    1.259455 -3.148105e-01   \n",
       "3                  8       0         2         9    1.695101 -1.361579e+00   \n",
       "4                 46       1         0         0   -0.461653 -8.347352e-01   \n",
       "...              ...     ...       ...       ...         ...           ...   \n",
       "29995              1       0         0        12   -0.851462 -1.675899e-01   \n",
       "29996             52       0        10        12   -0.713062  3.529633e-14   \n",
       "29997             66       1         9        12   -0.730900 -4.343526e-01   \n",
       "29998             75       1         6         2    0.313634 -7.599394e-01   \n",
       "29999             45       1         9        12   -0.659276  8.204817e-01   \n",
       "\n",
       "       Region_Location  Loan_location_group  Bad Flag  \n",
       "0                    1                    1         0  \n",
       "1                    5                    5         0  \n",
       "2                    2                    2         0  \n",
       "3                    2                    2         0  \n",
       "4                    1                    1         0  \n",
       "...                ...                  ...       ...  \n",
       "29995                5                    5         0  \n",
       "29996                9                    2         0  \n",
       "29997                1                    1         0  \n",
       "29998                4                    4         0  \n",
       "29999                1                    1         0  \n",
       "\n",
       "[30000 rows x 14 columns]"
      ]
     },
     "execution_count": 29,
     "metadata": {},
     "output_type": "execute_result"
    }
   ],
   "source": [
    "df_ext[['LOAN_DURATION_DAYS']] = scaler.fit_transform(df_ext[['LOAN_DURATION_DAYS']].values)\n",
    "df_ext"
   ]
  },
  {
   "cell_type": "markdown",
   "id": "0bb3f14a",
   "metadata": {},
   "source": [
    "# 6 Model Development"
   ]
  },
  {
   "cell_type": "markdown",
   "id": "ab7e31af",
   "metadata": {},
   "source": [
    "<b> We have 4 models including Logistic Regression, Ridge Classifier, Random Forest Classifier, and Gradient Boosting Classifier. <b>"
   ]
  },
  {
   "cell_type": "code",
   "execution_count": 30,
   "id": "2b08f76e",
   "metadata": {},
   "outputs": [],
   "source": [
    "from sklearn.model_selection import train_test_split\n",
    "\n",
    "X = df_ext.drop('Bad Flag', axis=1)\n",
    "y = df_ext['Bad Flag']"
   ]
  },
  {
   "cell_type": "code",
   "execution_count": 31,
   "id": "a148273d",
   "metadata": {},
   "outputs": [],
   "source": [
    "X_train, X_test, y_train, y_test = train_test_split(X, y, test_size = 0.2)"
   ]
  },
  {
   "cell_type": "code",
   "execution_count": 32,
   "id": "26460697",
   "metadata": {},
   "outputs": [],
   "source": [
    "from sklearn.pipeline import make_pipeline\n",
    "from sklearn.linear_model import LogisticRegression, RidgeClassifier\n",
    "from sklearn.ensemble import RandomForestClassifier, GradientBoostingClassifier\n",
    "\n",
    "pipelines = {\n",
    "    'lr':make_pipeline(LogisticRegression()),\n",
    "    'rc':make_pipeline(RidgeClassifier()),\n",
    "    'rf':make_pipeline(RandomForestClassifier()),\n",
    "    'gb':make_pipeline(GradientBoostingClassifier()),\n",
    "}"
   ]
  },
  {
   "cell_type": "code",
   "execution_count": 33,
   "id": "815e5e4f",
   "metadata": {},
   "outputs": [],
   "source": [
    "fit_models = {}\n",
    "for algo, pipeline in pipelines.items():\n",
    "    model = pipeline.fit(X_train, y_train)\n",
    "    fit_models[algo] = model"
   ]
  },
  {
   "cell_type": "markdown",
   "id": "be9978b1",
   "metadata": {},
   "source": [
    "# 7 Model Performance"
   ]
  },
  {
   "cell_type": "code",
   "execution_count": 34,
   "id": "0e568850",
   "metadata": {},
   "outputs": [
    {
     "name": "stdout",
     "output_type": "stream",
     "text": [
      "lr 0.9286666666666666\n",
      "rc 0.9286666666666666\n",
      "rf 0.9293333333333333\n",
      "gb 0.931\n"
     ]
    }
   ],
   "source": [
    "from sklearn.metrics import accuracy_score\n",
    "\n",
    "for algo, model in fit_models.items():\n",
    "    yhat = model.predict(X_test)\n",
    "    print(algo, accuracy_score(y_test, yhat))"
   ]
  },
  {
   "cell_type": "code",
   "execution_count": 35,
   "id": "ada3ca67",
   "metadata": {},
   "outputs": [
    {
     "name": "stdout",
     "output_type": "stream",
     "text": [
      "Probability of a random borrower defaults on loan:  3.94 %\n"
     ]
    }
   ],
   "source": [
    "import random\n",
    "\n",
    "random_sample = random.randint(0, len(X_test) - 1)\n",
    "lr = list(fit_models.items())[0][1]\n",
    "print(\"Probability of a random borrower defaults on loan: \", round(lr.predict_proba(X_test.iloc[[random_sample]])[0][1] * 100, 2), \"%\")"
   ]
  },
  {
   "cell_type": "code",
   "execution_count": 36,
   "id": "86df7022",
   "metadata": {},
   "outputs": [
    {
     "name": "stdout",
     "output_type": "stream",
     "text": [
      "Precision:  86.24 %\n",
      "Recall:  92.87 %\n",
      "F1-Score:  89.43 %\n"
     ]
    }
   ],
   "source": [
    "from sklearn.metrics import precision_recall_fscore_support\n",
    "\n",
    "y_pred = lr.predict(X_test)\n",
    "\n",
    "precision = precision_recall_fscore_support(y_test, y_pred, average='weighted')[0]\n",
    "recall = precision_recall_fscore_support(y_test, y_pred, average='weighted')[1]\n",
    "f1_score = precision_recall_fscore_support(y_test, y_pred, average='weighted')[2]\n",
    "print(\"Precision: \", round(precision * 100, 2), \"%\")\n",
    "print(\"Recall: \", round(recall * 100, 2), \"%\")\n",
    "print(\"F1-Score: \", round(f1_score * 100, 2), \"%\")"
   ]
  },
  {
   "cell_type": "code",
   "execution_count": 37,
   "id": "788eae16",
   "metadata": {},
   "outputs": [
    {
     "name": "stdout",
     "output_type": "stream",
     "text": [
      "AUC (Area Under Curve) Score:  0.7078101622934432\n"
     ]
    }
   ],
   "source": [
    "from sklearn.metrics import roc_curve, roc_auc_score\n",
    "\n",
    "false_positive_rate, true_positive_rate, threshold = roc_curve(y_test, lr.predict_proba(X_test)[:, 1])\n",
    "auc_score = roc_auc_score(y_test, lr.predict_proba(X_test)[:, 1])\n",
    "print(\"AUC (Area Under Curve) Score: \", auc_score)"
   ]
  },
  {
   "cell_type": "code",
   "execution_count": 38,
   "id": "7eabc202",
   "metadata": {},
   "outputs": [
    {
     "data": {
      "image/png": "[encoded data removed]",
      "text/plain": [
       "<Figure size 360x360 with 1 Axes>"
      ]
     },
     "metadata": {
      "needs_background": "light"
     },
     "output_type": "display_data"
    }
   ],
   "source": [
    "plt.subplots(1, figsize=(5, 5))\n",
    "plt.title('ROC Curve - Logistic Regression')\n",
    "plt.plot(false_positive_rate, true_positive_rate)\n",
    "plt.plot([0, 1], ls=\"--\")\n",
    "plt.plot([0, 0], [1, 0] , c=\".7\"), plt.plot([1, 1] , c=\".7\")\n",
    "plt.ylabel('True Positive Rate')\n",
    "plt.xlabel('False Positive Rate')\n",
    "plt.show()"
   ]
  },
  {
   "cell_type": "code",
   "execution_count": 39,
   "id": "bf7a403c",
   "metadata": {},
   "outputs": [
    {
     "name": "stdout",
     "output_type": "stream",
     "text": [
      "Gini Coefficient Score:  0.41562032458688636\n"
     ]
    }
   ],
   "source": [
    "gini_score = 2 * auc_score - 1\n",
    "print(\"Gini Coefficient Score: \", gini_score)"
   ]
  },
  {
   "cell_type": "code",
   "execution_count": 40,
   "id": "0b6c5273",
   "metadata": {},
   "outputs": [
    {
     "data": {
      "image/png": "[encoded data removed]",
      "text/plain": [
       "<Figure size 432x288 with 2 Axes>"
      ]
     },
     "metadata": {
      "needs_background": "light"
     },
     "output_type": "display_data"
    }
   ],
   "source": [
    "from sklearn.metrics import plot_confusion_matrix\n",
    "\n",
    "plot_confusion_matrix(lr, X_test, y_test) \n",
    "plt.title('Confusion Matrix')\n",
    "plt.show()"
   ]
  },
  {
   "cell_type": "markdown",
   "id": "944e34c2",
   "metadata": {},
   "source": [
    "<b>Confusion matrix states that all predictions are '0'. If we look at number of unique values in our target class \"Bad Flag\", we will see that our data is imbalanced. We have 27766 value of '0' and only 2234 value of '1'. Model becomes biased when it constantly predicts only 1 target. It results in good accuracy, precision, recall, and F1-score. On the other hand, if we look at gini coefficient score, we will see that our model is biased. Now, I'll perform 1 oversampling and 1 undersampling techniques in order to overcome imbalanced data problem and increase model performance.</b>"
   ]
  },
  {
   "cell_type": "markdown",
   "id": "e6c3f88b",
   "metadata": {},
   "source": [
    "### Near Miss Undersampling"
   ]
  },
  {
   "cell_type": "code",
   "execution_count": 41,
   "id": "a3eb69be",
   "metadata": {},
   "outputs": [
    {
     "name": "stdout",
     "output_type": "stream",
     "text": [
      "Counter({0: 2234, 1: 2234})\n"
     ]
    }
   ],
   "source": [
    "from collections import Counter\n",
    "from imblearn.under_sampling import NearMiss\n",
    "\n",
    "undersampling = NearMiss(version = 1, n_neighbors = 3)\n",
    "X1, y1 = undersampling.fit_resample(X, y)\n",
    "counter = Counter(y1)\n",
    "print(counter)"
   ]
  },
  {
   "cell_type": "code",
   "execution_count": 42,
   "id": "71574891",
   "metadata": {},
   "outputs": [
    {
     "name": "stdout",
     "output_type": "stream",
     "text": [
      "lr (undersampling) 0.7080536912751678\n",
      "rc (undersampling) 0.7102908277404921\n",
      "rf (undersampling) 0.7796420581655481\n",
      "gb (undersampling) 0.7941834451901566\n"
     ]
    }
   ],
   "source": [
    "X1_train, X1_test, y1_train, y1_test = train_test_split(X1, y1, test_size = 0.2)\n",
    "\n",
    "pipelines1 = {\n",
    "    'lr (undersampling)':make_pipeline(LogisticRegression()),\n",
    "    'rc (undersampling)':make_pipeline(RidgeClassifier()),\n",
    "    'rf (undersampling)':make_pipeline(RandomForestClassifier()),\n",
    "    'gb (undersampling)':make_pipeline(GradientBoostingClassifier()),\n",
    "}\n",
    "\n",
    "fit_models1 = {}\n",
    "for algo, pipeline in pipelines1.items():\n",
    "    model = pipeline.fit(X1_train, y1_train)\n",
    "    fit_models1[algo] = model\n",
    "\n",
    "for algo, model in fit_models1.items():\n",
    "    yhat1 = model.predict(X1_test)\n",
    "    print(algo, accuracy_score(y1_test, yhat1))"
   ]
  },
  {
   "cell_type": "code",
   "execution_count": 43,
   "id": "4fe8d3df",
   "metadata": {},
   "outputs": [
    {
     "name": "stdout",
     "output_type": "stream",
     "text": [
      "Probability of a random borrower defaults on loan (undersampling):  48.53 %\n"
     ]
    }
   ],
   "source": [
    "random_sample = random.randint(0, len(X1_test) - 1)\n",
    "lr1 = list(fit_models1.items())[0][1]\n",
    "print(\"Probability of a random borrower defaults on loan (undersampling): \", round(lr1.predict_proba(X1_test.iloc[[random_sample]])[0][1] * 100, 2), \"%\")"
   ]
  },
  {
   "cell_type": "code",
   "execution_count": 44,
   "id": "8317dab5",
   "metadata": {},
   "outputs": [
    {
     "name": "stdout",
     "output_type": "stream",
     "text": [
      "Precision (undersampling):  70.86 %\n",
      "Recall (undersampling):  70.81 %\n",
      "F1-Score (undersampling):  70.79 %\n"
     ]
    }
   ],
   "source": [
    "y1_pred = lr1.predict(X1_test)\n",
    "\n",
    "precision1 = precision_recall_fscore_support(y1_test, y1_pred, average='weighted')[0]\n",
    "recall1 = precision_recall_fscore_support(y1_test, y1_pred, average='weighted')[1]\n",
    "f1_score1 = precision_recall_fscore_support(y1_test, y1_pred, average='weighted')[2]\n",
    "print(\"Precision (undersampling): \", round(precision1 * 100, 2), \"%\")\n",
    "print(\"Recall (undersampling): \", round(recall1 * 100, 2), \"%\")\n",
    "print(\"F1-Score (undersampling): \", round(f1_score1 * 100, 2), \"%\")"
   ]
  },
  {
   "cell_type": "code",
   "execution_count": 45,
   "id": "1bcaebc4",
   "metadata": {},
   "outputs": [
    {
     "name": "stdout",
     "output_type": "stream",
     "text": [
      "AUC (Area Under Curve) Score (undersampling):  0.7753009183954356\n"
     ]
    }
   ],
   "source": [
    "false_positive_rate1, true_positive_rate1, threshold1 = roc_curve(y1_test, lr1.predict_proba(X1_test)[:, 1])\n",
    "auc_score1 = roc_auc_score(y1_test, lr1.predict_proba(X1_test)[:, 1])\n",
    "print(\"AUC (Area Under Curve) Score (undersampling): \", auc_score1)"
   ]
  },
  {
   "cell_type": "code",
   "execution_count": 46,
   "id": "37f6f711",
   "metadata": {},
   "outputs": [
    {
     "data": {
      "image/png": "[encoded data removed]",
      "text/plain": [
       "<Figure size 360x360 with 1 Axes>"
      ]
     },
     "metadata": {
      "needs_background": "light"
     },
     "output_type": "display_data"
    }
   ],
   "source": [
    "plt.subplots(1, figsize=(5, 5))\n",
    "plt.title('ROC Curve - Logistic Regression (undersampling)')\n",
    "plt.plot(false_positive_rate1, true_positive_rate1)\n",
    "plt.plot([0, 1], ls=\"--\")\n",
    "plt.plot([0, 0], [1, 0] , c=\".7\"), plt.plot([1, 1] , c=\".7\")\n",
    "plt.ylabel('True Positive Rate')\n",
    "plt.xlabel('False Positive Rate')\n",
    "plt.show()"
   ]
  },
  {
   "cell_type": "code",
   "execution_count": 47,
   "id": "c4c7aac9",
   "metadata": {},
   "outputs": [
    {
     "name": "stdout",
     "output_type": "stream",
     "text": [
      "Gini Coefficient Score (undersampling):  0.5506018367908712\n"
     ]
    }
   ],
   "source": [
    "gini_score1 = 2 * auc_score1 - 1\n",
    "print(\"Gini Coefficient Score (undersampling): \", gini_score1)"
   ]
  },
  {
   "cell_type": "code",
   "execution_count": 48,
   "id": "51718e6c",
   "metadata": {},
   "outputs": [
    {
     "data": {
      "image/png": "[encoded data removed]",
      "text/plain": [
       "<Figure size 432x288 with 2 Axes>"
      ]
     },
     "metadata": {
      "needs_background": "light"
     },
     "output_type": "display_data"
    }
   ],
   "source": [
    "plot_confusion_matrix(lr1, X1_test, y1_test)  \n",
    "plt.title('Confusion Matrix (undersampling)')\n",
    "plt.show()"
   ]
  },
  {
   "cell_type": "markdown",
   "id": "0c3a8169",
   "metadata": {},
   "source": [
    "### Borderline-SMOTE Oversampling"
   ]
  },
  {
   "cell_type": "code",
   "execution_count": 49,
   "id": "559b6d80",
   "metadata": {},
   "outputs": [
    {
     "name": "stdout",
     "output_type": "stream",
     "text": [
      "Counter({0: 27766, 1: 27766})\n"
     ]
    }
   ],
   "source": [
    "from imblearn.over_sampling import BorderlineSMOTE\n",
    "\n",
    "oversampling = BorderlineSMOTE()\n",
    "X2, y2 = oversampling.fit_resample(X, y)\n",
    "counter = Counter(y2)\n",
    "print(counter)"
   ]
  },
  {
   "cell_type": "code",
   "execution_count": 50,
   "id": "6eb242c9",
   "metadata": {},
   "outputs": [
    {
     "name": "stdout",
     "output_type": "stream",
     "text": [
      "lr (oversampling) 0.6684973440172864\n",
      "rc (oversampling) 0.6677770775186819\n",
      "rf (oversampling) 0.9496713784100117\n",
      "gb (oversampling) 0.8431619699288737\n"
     ]
    }
   ],
   "source": [
    "X2_train, X2_test, y2_train, y2_test = train_test_split(X2, y2, test_size = 0.2)\n",
    "\n",
    "pipelines2 = {\n",
    "    'lr (oversampling)':make_pipeline(LogisticRegression()),\n",
    "    'rc (oversampling)':make_pipeline(RidgeClassifier()),\n",
    "    'rf (oversampling)':make_pipeline(RandomForestClassifier()),\n",
    "    'gb (oversampling)':make_pipeline(GradientBoostingClassifier()),\n",
    "}\n",
    "\n",
    "fit_models2 = {}\n",
    "for algo, pipeline in pipelines2.items():\n",
    "    model = pipeline.fit(X2_train, y2_train)\n",
    "    fit_models2[algo] = model\n",
    "\n",
    "for algo, model in fit_models2.items():\n",
    "    yhat2 = model.predict(X2_test)\n",
    "    print(algo, accuracy_score(y2_test, yhat2))"
   ]
  },
  {
   "cell_type": "code",
   "execution_count": 51,
   "id": "cba851c5",
   "metadata": {},
   "outputs": [
    {
     "name": "stdout",
     "output_type": "stream",
     "text": [
      "Probability of a random borrower defaults on loan (oversampling):  73.16 %\n"
     ]
    }
   ],
   "source": [
    "random_sample = random.randint(0, len(X2_test) - 1)\n",
    "lr2 = list(fit_models2.items())[0][1]\n",
    "print(\"Probability of a random borrower defaults on loan (oversampling): \", round(lr2.predict_proba(X2_test.iloc[[random_sample]])[0][1] * 100, 2), \"%\")"
   ]
  },
  {
   "cell_type": "code",
   "execution_count": 52,
   "id": "4e3f5716",
   "metadata": {},
   "outputs": [
    {
     "name": "stdout",
     "output_type": "stream",
     "text": [
      "Precision (oversampling):  66.88 %\n",
      "Recall (oversampling):  66.85 %\n",
      "F1-Score (oversampling):  66.85 %\n"
     ]
    }
   ],
   "source": [
    "y2_pred = lr2.predict(X2_test)\n",
    "\n",
    "precision2 = precision_recall_fscore_support(y2_test, y2_pred, average='weighted')[0]\n",
    "recall2 = precision_recall_fscore_support(y2_test, y2_pred, average='weighted')[1]\n",
    "f1_score2 = precision_recall_fscore_support(y2_test, y2_pred, average='weighted')[2]\n",
    "print(\"Precision (oversampling): \", round(precision2 * 100, 2), \"%\")\n",
    "print(\"Recall (oversampling): \", round(recall2 * 100, 2), \"%\")\n",
    "print(\"F1-Score (oversampling): \", round(f1_score2 * 100, 2), \"%\")"
   ]
  },
  {
   "cell_type": "code",
   "execution_count": 53,
   "id": "eec70974",
   "metadata": {},
   "outputs": [
    {
     "name": "stdout",
     "output_type": "stream",
     "text": [
      "AUC (Area Under Curve) Score (oversampling):  0.7301955415088421\n"
     ]
    }
   ],
   "source": [
    "false_positive_rate2, true_positive_rate2, threshold2 = roc_curve(y2_test, lr2.predict_proba(X2_test)[:, 1])\n",
    "auc_score2 = roc_auc_score(y2_test, lr2.predict_proba(X2_test)[:, 1])\n",
    "print(\"AUC (Area Under Curve) Score (oversampling): \", auc_score2)"
   ]
  },
  {
   "cell_type": "code",
   "execution_count": 54,
   "id": "c6688e30",
   "metadata": {},
   "outputs": [
    {
     "data": {
      "image/png": "[encoded data removed]",
      "text/plain": [
       "<Figure size 360x360 with 1 Axes>"
      ]
     },
     "metadata": {
      "needs_background": "light"
     },
     "output_type": "display_data"
    }
   ],
   "source": [
    "plt.subplots(1, figsize=(5, 5))\n",
    "plt.title('ROC Curve - Logistic Regression (oversampling)')\n",
    "plt.plot(false_positive_rate2, true_positive_rate2)\n",
    "plt.plot([0, 1], ls=\"--\")\n",
    "plt.plot([0, 0], [1, 0] , c=\".7\"), plt.plot([1, 1] , c=\".7\")\n",
    "plt.ylabel('True Positive Rate')\n",
    "plt.xlabel('False Positive Rate')\n",
    "plt.show()"
   ]
  },
  {
   "cell_type": "code",
   "execution_count": 55,
   "id": "70201bd4",
   "metadata": {},
   "outputs": [
    {
     "name": "stdout",
     "output_type": "stream",
     "text": [
      "Gini Coefficient Score (oversampling):  0.4603910830176843\n"
     ]
    }
   ],
   "source": [
    "gini_score2 = 2 * auc_score2 - 1\n",
    "print(\"Gini Coefficient Score (oversampling): \", gini_score2)"
   ]
  },
  {
   "cell_type": "code",
   "execution_count": 56,
   "id": "80c333b5",
   "metadata": {},
   "outputs": [
    {
     "data": {
      "image/png": "[encoded data removed]",
      "text/plain": [
       "<Figure size 432x288 with 2 Axes>"
      ]
     },
     "metadata": {
      "needs_background": "light"
     },
     "output_type": "display_data"
    }
   ],
   "source": [
    "plot_confusion_matrix(lr2, X2_test, y2_test)  \n",
    "plt.title('Confusion Matrix (oversampling)')\n",
    "plt.show()"
   ]
  },
  {
   "cell_type": "markdown",
   "id": "3bf3eb9e",
   "metadata": {},
   "source": [
    "<b>After applying undersampling & oversampling, our accuracy score decreased. However, as I mentioned earlier accuracy score is not appropriate metric for this task. What we need to look at is Gini Coefficient score and AUC score. After applying undersampling & oversampling, those metrics scores have been significantly increased. To go beyond this performance, we may need more qualitative data for target class \"1\".</b>"
   ]
  }
 ],
 "metadata": {
  "kernelspec": {
   "display_name": "Python 3 (ipykernel)",
   "language": "python",
   "name": "python3"
  },
  "language_info": {
   "codemirror_mode": {
    "name": "ipython",
    "version": 3
   },
   "file_extension": ".py",
   "mimetype": "text/x-python",
   "name": "python",
   "nbconvert_exporter": "python",
   "pygments_lexer": "ipython3",
   "version": "3.9.12"
  }
 },
 "nbformat": 4,
 "nbformat_minor": 5
}
